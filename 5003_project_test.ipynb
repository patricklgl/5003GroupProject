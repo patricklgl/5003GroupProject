{
  "nbformat": 4,
  "nbformat_minor": 0,
  "metadata": {
    "colab": {
      "name": "5003_project_test.ipynb",
      "provenance": [],
      "collapsed_sections": []
    },
    "kernelspec": {
      "name": "python3",
      "display_name": "Python 3"
    },
    "language_info": {
      "name": "python"
    }
  },
  "cells": [
    {
      "cell_type": "code",
      "metadata": {
        "id": "CAbxpaKzZkYF"
      },
      "source": [
        "!apt-get install openjdk-8-jdk-headless -qq > /dev/null\n",
        "!wget -q https://apache.website-solution.net/spark/spark-3.1.2/spark-3.1.2-bin-hadoop3.2.tgz\n",
        "!tar xf spark-3.1.2-bin-hadoop3.2.tgz\n",
        "!pip install -q findspark\n",
        "\n",
        "import os\n",
        "os.environ[\"JAVA_HOME\"] = \"/usr/lib/jvm/java-8-openjdk-amd64\"\n",
        "os.environ[\"SPARK_HOME\"] = \"/content/spark-3.1.2-bin-hadoop3.2\"\n",
        "\n",
        "import findspark\n",
        "findspark.init()\n",
        "from pyspark.sql import SparkSession\n",
        "spark = SparkSession.builder.master(\"local[*]\").getOrCreate()\n",
        "\n",
        "from pyspark import accumulators, since\n",
        "from pyspark.accumulators import Accumulator\n",
        "from pyspark.broadcast import Broadcast, BroadcastPickleRegistry\n",
        "from pyspark.conf import SparkConf\n",
        "from pyspark.files import SparkFiles\n",
        "from pyspark.java_gateway import launch_gateway, local_connect_and_auth\n",
        "from pyspark.serializers import PickleSerializer, BatchedSerializer, UTF8Deserializer, \\\n",
        "    PairDeserializer, AutoBatchedSerializer, NoOpSerializer, ChunkedStream\n",
        "from pyspark.storagelevel import StorageLevel\n",
        "from pyspark.resource.information import ResourceInformation\n",
        "from pyspark.rdd import RDD, _load_from_socket\n",
        "from pyspark.taskcontext import TaskContext\n",
        "from pyspark.traceback_utils import CallSite, first_spark_call\n",
        "from pyspark.status import StatusTracker\n",
        "from pyspark.profiler import ProfilerCollector, BasicProfiler\n",
        "\n",
        "from operator import add\n",
        "\n",
        "\n"
      ],
      "execution_count": 14,
      "outputs": []
    },
    {
      "cell_type": "code",
      "metadata": {
        "id": "aOpR1ylrrx7U"
      },
      "source": [
        "sc = spark.sparkContext"
      ],
      "execution_count": 15,
      "outputs": []
    },
    {
      "cell_type": "code",
      "metadata": {
        "colab": {
          "base_uri": "https://localhost:8080/"
        },
        "id": "pyCfABk7rirm",
        "outputId": "4095634a-c4c6-492b-f268-0f38fbd41b59"
      },
      "source": [
        "#import timeit\n",
        "#import pandas\n",
        "\n",
        "\n",
        "#path=\"spiral.txt\"\n",
        "#path=\"10000.txt\"\n",
        "\n",
        "#start = timeit.timeit()\n",
        "\n",
        "#pts = sc.textFile(path).map(lambda x: x.strip().split()[:-1]).map(lambda x: tuple([float(i) for i in x]))\n",
        "#pts = sc.textFile(path)\n",
        "\n",
        "#print(\"hello\")\n",
        "#print(pts.collect())\n",
        "\n",
        "#end = timeit.timeit()\n",
        "#print(end - start)\n",
        "\n",
        "\n",
        "#start2 = timeit.timeit()\n",
        "\n",
        "#pts = sc.textFile(path).map(lambda x: x.strip().split()[:-1]).map(lambda x: tuple([float(i) for i in x]))\n",
        "#pts = sc.textFile(path)\n",
        "#pd = pandas.read_csv(path, sep=\" \", header=None)\n",
        "#print(\"hello2\")\n",
        "#end2 = timeit.timeit()\n",
        "#print(end2 - start2)\n"
      ],
      "execution_count": null,
      "outputs": [
        {
          "output_type": "stream",
          "name": "stdout",
          "text": [
            "hello\n"
          ]
        },
        {
          "output_type": "stream",
          "name": "stderr",
          "text": [
            "IOPub data rate exceeded.\n",
            "The notebook server will temporarily stop sending output\n",
            "to the client in order to avoid crashing it.\n",
            "To change this limit, set the config variable\n",
            "`--NotebookApp.iopub_data_rate_limit`.\n",
            "\n",
            "Current values:\n",
            "NotebookApp.iopub_data_rate_limit=1000000.0 (bytes/sec)\n",
            "NotebookApp.rate_limit_window=3.0 (secs)\n",
            "\n"
          ]
        },
        {
          "output_type": "stream",
          "name": "stdout",
          "text": [
            "hello2\n",
            "0.006711102999361174\n"
          ]
        }
      ]
    },
    {
      "cell_type": "code",
      "metadata": {
        "id": "TlDkq4H64vOn"
      },
      "source": [
        "import numpy as np\n",
        "import math\n",
        "import pandas as pd\n",
        "import matplotlib.pyplot as plt\n",
        "import seaborn as sns\n",
        "import time"
      ],
      "execution_count": 16,
      "outputs": []
    },
    {
      "cell_type": "code",
      "metadata": {
        "id": "ueDXTDr54whf"
      },
      "source": [
        "UNTAGGED = 0\n",
        "TAGGED = 1\n",
        "INIT_TAG = -1\n",
        "CORE = 1\n",
        "UNCLASSIFIED = 0\n",
        "BOUNDARY = 0\n",
        "CORE = 1\n",
        "NOISE = -1\n",
        "TRADITIONAL = \"traditional\"\n",
        "ADVANCED = \"advanced\""
      ],
      "execution_count": 17,
      "outputs": []
    },
    {
      "cell_type": "code",
      "metadata": {
        "id": "thsyz3qP4z9Y"
      },
      "source": [
        "def partition(dataset,partition_shape,eps):\n",
        "    df=dataset.toDF().toPandas()\n",
        "    true_tags=[]\n",
        "    point_x=[]\n",
        "    point_y=[]\n",
        "    partition_num=partition_shape[0]*partition_shape[1]\n",
        "    for i in range(0, df.shape[0]):\n",
        "        point_x.append(float(df.iloc[i,0]))\n",
        "        point_y.append(float(df.iloc[i,1]))\n",
        "        true_tags.append(float(df.iloc[i,2]))\n",
        "    border_x=np.linspace(min(point_x),max(point_x),num=partition_shape[0]+1, endpoint=True)\n",
        "    border_y=np.linspace(min(point_y),max(point_y),num=partition_shape[1]+1, endpoint=True)\n",
        "    \n",
        "    lower_bound_list = []\n",
        "    upper_bound_list = []\n",
        "    \n",
        "    for y_low in border_y[:-1]:\n",
        "        for x_low in border_x[:-1]:\n",
        "            lower_bound_list.append([x_low,y_low])\n",
        "\n",
        "    lower_bound = []\n",
        "    for lower in lower_bound_list:\n",
        "        lower_bound.append([lower[0]-eps, lower[1]-eps])\n",
        "\n",
        "    for y_up in border_y[1:]:\n",
        "        for x_up in border_x[1:]:\n",
        "            upper_bound_list.append([x_up,y_up])\n",
        "\n",
        "    upper_bound = []\n",
        "    for upper in upper_bound_list:\n",
        "        upper_bound.append([upper[0]+eps, upper[1]+eps])\n",
        "        \n",
        "    partition_info={}\n",
        "    for i in range(0,len(lower_bound)):\n",
        "        partition_info[i]=[]\n",
        "    for p_id in range(0,df.shape[0]):     # index of point in dataset\n",
        "        for part_id in range(0,len(lower_bound)):\n",
        "            if (point_x[p_id]>lower_bound[part_id][0]) \\\n",
        "            and (point_y[p_id]>lower_bound[part_id][1])\\\n",
        "            and (point_x[p_id]<upper_bound[part_id][0])\\\n",
        "            and (point_y[p_id]<upper_bound[part_id][1]):\n",
        "                partition_info[part_id].append((p_id,(point_x[p_id],point_y[p_id])))\n",
        "            else:\n",
        "                continue\n",
        "    res = sc.parallelize(list(partition_info.items()),partition_num)\n",
        "\n",
        "    return res"
      ],
      "execution_count": 18,
      "outputs": []
    },
    {
      "cell_type": "code",
      "metadata": {
        "id": "Fb-R8j_I44OH"
      },
      "source": [
        "##calculate the neighbours of point p\n",
        "def get_neighbours(dataset, pid, eps, num_p, method=ADVANCED):\n",
        "    neighbours = []\n",
        "    point_array = np.array(dataset)\n",
        "    if method == TRADITIONAL:\n",
        "        for nid in range(num_p):\n",
        "            distance = np.linalg.norm(point_array[pid] - point_array[nid])\n",
        "            if distance < eps:\n",
        "                neighbours.append(nid)\n",
        "        return neighbours\n",
        "\n",
        "    elif method == ADVANCED:\n",
        "        s = 1.25 * eps * math.sqrt(2)  ##2.5*（1/根号2）\n",
        "        distance = eps + 1\n",
        "        for nid in range(num_p):\n",
        "            if (point_array[pid][0] - s) <= point_array[nid][0] and point_array[nid][0] <= (point_array[pid][0] + s):\n",
        "                if (point_array[pid][1] - s) <= point_array[nid][1] and point_array[nid][1] <= (point_array[pid][1] + s):\n",
        "                    distance = np.linalg.norm(point_array[pid] - point_array[nid])\n",
        "\n",
        "            if distance < eps:\n",
        "                neighbours.append(nid)\n",
        "        return neighbours"
      ],
      "execution_count": 19,
      "outputs": []
    },
    {
      "cell_type": "code",
      "metadata": {
        "id": "UXE7oIVA46mf"
      },
      "source": [
        "def cluster(rdd_list, eps, minpts, method =TRADITIONAL):\n",
        "    # data_list = [pid for pid in range(num_p)]\n",
        "    point_id_list = []\n",
        "    dataset = []\n",
        "    for point in rdd_list:\n",
        "        point_id_list.append(point[0])\n",
        "        dataset.append(point[1])\n",
        "    num_p = len(point_id_list)  # num_p represents the number of points\n",
        "    tag_list = [UNCLASSIFIED] * num_p\n",
        "    core_list = [BOUNDARY] * num_p\n",
        "    noise_list = []\n",
        "    cluster_id = 1\n",
        "    for pid in range(num_p):\n",
        "        if tag_list[pid] == UNCLASSIFIED:\n",
        "            neighbour = get_neighbours(dataset, pid, eps, num_p, method)\n",
        "            if len(neighbour) < minpts:\n",
        "                noise_list.append(pid)\n",
        "            else:\n",
        "                tag_list[pid] = cluster_id\n",
        "                for nid in neighbour:\n",
        "                    if tag_list[nid] == UNCLASSIFIED:\n",
        "                        tag_list[nid] = cluster_id\n",
        "\n",
        "                    if nid in noise_list:\n",
        "                        noise_list.remove(nid)\n",
        "\n",
        "                while len(neighbour) > 0:\n",
        "                    cid = neighbour[0]  # current point id\n",
        "                    sub_neighbour = get_neighbours(dataset, cid, eps, num_p, method)\n",
        "                    if len(sub_neighbour) >= minpts:\n",
        "                        for sid in range(len(sub_neighbour)):\n",
        "                            if sub_neighbour[sid] in noise_list:\n",
        "                                noise_list.remove(sub_neighbour[sid])\n",
        "                            if tag_list[sub_neighbour[sid]] == UNCLASSIFIED:\n",
        "                                neighbour.append(sub_neighbour[sid])\n",
        "                                tag_list[sub_neighbour[sid]] = cluster_id\n",
        "                    elif len(sub_neighbour) < minpts:\n",
        "                        core_list[cid] = CORE\n",
        "\n",
        "                    neighbour = neighbour[1:]\n",
        "                cluster_id += 1\n",
        "\n",
        "    for nid in noise_list:\n",
        "        tag_list[nid] = NOISE\n",
        "\n",
        "    return (tag_list, core_list)"
      ],
      "execution_count": 20,
      "outputs": []
    },
    {
      "cell_type": "code",
      "metadata": {
        "id": "bQ3cq_qN49s3"
      },
      "source": [
        "def merge(partition_dict, core_list):\n",
        "    max_point_tags = 0\n",
        "    tagged_point_id = []\n",
        "    tagged_partition_id = []\n",
        "    status = []\n",
        "    for partition_key, partition_value in partition_dict.items():\n",
        "        max_tags = max_point_tags\n",
        "        for point_key, point_value in partition_value.items():\n",
        "            if point_value[\"tags\"] != NOISE:\n",
        "                point_value[\"tags\"] += max_point_tags  # make different partition has different tags.\n",
        "            if point_value[\"tags\"] > max_tags:\n",
        "                max_tags = point_value[\"tags\"]  # update max_point_tags.\n",
        "            point_value[\"is_tagged\"] = UNTAGGED\n",
        "            point_value[\"final_tags\"] = INIT_TAG\n",
        "        max_point_tags = max_tags\n",
        "\n",
        "    for partition_key, partition_value in partition_dict.items():\n",
        "        for point_key, point_value in partition_value.items():\n",
        "#             if point_value[\"is_tagged\"] == UNTAGGED:\n",
        "            if point_key not in tagged_point_id:\n",
        "                point_value[\"is_tagged\"] = TAGGED\n",
        "                point_value[\"final_tags\"] = point_value[\"tags\"]\n",
        "                tagged_point_id.append(point_key)\n",
        "                tagged_partition_id.append(partition_key)\n",
        "\n",
        "            else: \n",
        "                position = tagged_point_id.index(point_key)\n",
        "                initial_tags = point_value[\"tags\"]\n",
        "                point_value[\"is_tagged\"] = TAGGED\n",
        "                if partition_dict[tagged_partition_id[position]][tagged_point_id[position]][\"final_tags\"] == NOISE:\n",
        "                    partition_dict[tagged_partition_id[position]][tagged_point_id[position]][\"final_tags\"] = initial_tags\n",
        "                else:\n",
        "                    point_value[\"final_tags\"] = partition_dict[tagged_partition_id[position]][tagged_point_id[position]][\"final_tags\"]\n",
        "                for point_key2, point_value2 in partition_value.items():\n",
        "                    if point_value2[\"tags\"] == initial_tags and initial_tags != NOISE:\n",
        "                        point_value2[\"final_tags\"] = partition_dict[tagged_partition_id[position]][tagged_point_id[position]][\"final_tags\"]\n",
        "                        if point_key2 not in tagged_point_id:\n",
        "                            tagged_point_id.append(point_key2)\n",
        "                            tagged_partition_id.append(partition_key)\n",
        "        \n",
        "\n",
        "    return partition_dict"
      ],
      "execution_count": 21,
      "outputs": []
    },
    {
      "cell_type": "code",
      "metadata": {
        "id": "NRIdloov5A-f"
      },
      "source": [
        "def main(dataset, partition_shape, eps, minpoint):\n",
        "    partitioned_data = partition(dataset, partition_shape, eps)\n",
        "    partitioned_data_list = partitioned_data.collect()\n",
        "    # rdd = [(partition_id, [(point_id, (x, y)), ]), () ...]\n",
        "    cluster_results = partitioned_data.mapValues(lambda x: cluster(x, eps, minpoint, method =TRADITIONAL)).collect()\n",
        "    # cluster_result =[(partition_id , (tag_list , core_list)),...]\n",
        "    #print(cluster_results)\n",
        "    core_list = []\n",
        "    tag_list = []\n",
        "    for cluster_result in cluster_results:\n",
        "        tag_list += cluster_result[1][0]\n",
        "        core_list += (cluster_result[1][1])\n",
        "    partition_id_list = []\n",
        "    point_id_list = []\n",
        "    coordinate_list = []\n",
        "    for pp in partitioned_data_list:\n",
        "        point_id_tmp = []\n",
        "        coordinate_tmp = []\n",
        "        for p in pp[1]:\n",
        "            point_id_tmp.append(p[0])\n",
        "            coordinate_tmp.append(p[1])\n",
        "            partition_id_list.append(pp[0])\n",
        "        point_id_list += (point_id_tmp)\n",
        "        coordinate_list += (coordinate_tmp)\n",
        "    partition_point_core_tag = zip(partition_id_list , point_id_list , core_list , tag_list , coordinate_list)\n",
        "    partition_point_core_tag\n",
        "    # partition_point_core_tag = [(parition_id,point_id,iscore,tag),...]\n",
        "    partition_point_dict = {}\n",
        "    for pp in partitioned_data_list:\n",
        "        partition_point_dict[pp[0]] = {}\n",
        "    for key, value in partition_point_dict.items():\n",
        "        for i in partition_point_core_tag:\n",
        "            if key == i[0]:\n",
        "                value[i[1]] = {\"is_core\":i[2] , \"tags\":i[3] ,\"coordinate\":i[4] }\n",
        "            else:\n",
        "                continue\n",
        "\n",
        "    return merge(partition_point_dict, core_list)"
      ],
      "execution_count": 22,
      "outputs": []
    },
    {
      "cell_type": "code",
      "metadata": {
        "colab": {
          "base_uri": "https://localhost:8080/"
        },
        "id": "GBQdqMnH5GeX",
        "outputId": "c7ebed6a-a7f0-42f6-de6b-3947d6b5c3c9"
      },
      "source": [
        "import timeit\n",
        "\n",
        "#partition_shape = (2,2)\n",
        "eps = 0.55\n",
        "minpoint = 15\n",
        "\n",
        "partition_shape = (2,2)\n",
        "#eps = 2\n",
        "#minpoint = 2\n",
        "\n",
        "filepath=\"R15.txt\"\n",
        "#filepath=\"R15_1.txt\"\n",
        "dataset = sc.textFile(filepath).map(lambda x: x.strip().split())\n",
        "\n",
        "start = timeit.timeit()\n",
        "\n",
        "info_dict = main(dataset, partition_shape, eps, minpoint)\n",
        "end = timeit.timeit()\n",
        "print(end - start)\n",
        "\n",
        "\n",
        "count = 0\n",
        "\n",
        "for key, value in info_dict.items():\n",
        "    count = count + 1\n",
        "    print(value.items())\n",
        "\n",
        "print(count)\n",
        "\n"
      ],
      "execution_count": 45,
      "outputs": [
        {
          "output_type": "stream",
          "name": "stdout",
          "text": [
            "0.0002917970014095772\n",
            "dict_items([(0, {'is_core': 0, 'tags': 1, 'coordinate': (9.802, 10.132), 'is_tagged': 1, 'final_tags': 1}), (1, {'is_core': 0, 'tags': 1, 'coordinate': (10.35, 9.768), 'is_tagged': 1, 'final_tags': 1}), (2, {'is_core': 0, 'tags': 1, 'coordinate': (10.098, 9.988), 'is_tagged': 1, 'final_tags': 1}), (3, {'is_core': 0, 'tags': 1, 'coordinate': (9.73, 9.91), 'is_tagged': 1, 'final_tags': 1}), (4, {'is_core': 0, 'tags': 1, 'coordinate': (9.754, 10.43), 'is_tagged': 1, 'final_tags': 1}), (5, {'is_core': 0, 'tags': 1, 'coordinate': (9.836, 9.902), 'is_tagged': 1, 'final_tags': 1}), (6, {'is_core': 0, 'tags': 1, 'coordinate': (10.238, 9.866), 'is_tagged': 1, 'final_tags': 1}), (7, {'is_core': 1, 'tags': 1, 'coordinate': (9.53, 9.862), 'is_tagged': 1, 'final_tags': 1}), (8, {'is_core': 0, 'tags': 1, 'coordinate': (10.154, 9.82), 'is_tagged': 1, 'final_tags': 1}), (9, {'is_core': 1, 'tags': 1, 'coordinate': (9.336, 10.456), 'is_tagged': 1, 'final_tags': 1}), (10, {'is_core': 1, 'tags': 1, 'coordinate': (9.378, 10.21), 'is_tagged': 1, 'final_tags': 1}), (11, {'is_core': 0, 'tags': 1, 'coordinate': (9.712, 10.264), 'is_tagged': 1, 'final_tags': 1}), (12, {'is_core': 0, 'tags': 1, 'coordinate': (9.638, 10.208), 'is_tagged': 1, 'final_tags': 1}), (13, {'is_core': 0, 'tags': 1, 'coordinate': (9.518, 9.956), 'is_tagged': 1, 'final_tags': 1}), (14, {'is_core': 0, 'tags': 1, 'coordinate': (10.236, 9.91), 'is_tagged': 1, 'final_tags': 1}), (15, {'is_core': 0, 'tags': 1, 'coordinate': (9.4, 10.086), 'is_tagged': 1, 'final_tags': 1}), (16, {'is_core': 0, 'tags': 1, 'coordinate': (10.196, 9.746), 'is_tagged': 1, 'final_tags': 1}), (17, {'is_core': 0, 'tags': 1, 'coordinate': (10.138, 9.828), 'is_tagged': 1, 'final_tags': 1}), (18, {'is_core': 0, 'tags': 1, 'coordinate': (10.062, 10.26), 'is_tagged': 1, 'final_tags': 1}), (19, {'is_core': 0, 'tags': 1, 'coordinate': (10.394, 9.984), 'is_tagged': 1, 'final_tags': 1}), (20, {'is_core': 0, 'tags': 1, 'coordinate': (10.284, 10.348), 'is_tagged': 1, 'final_tags': 1}), (21, {'is_core': 0, 'tags': 1, 'coordinate': (9.706, 9.978), 'is_tagged': 1, 'final_tags': 1}), (22, {'is_core': 1, 'tags': 1, 'coordinate': (9.906, 10.588), 'is_tagged': 1, 'final_tags': 1}), (23, {'is_core': 1, 'tags': 1, 'coordinate': (10.356, 9.198), 'is_tagged': 1, 'final_tags': 1}), (24, {'is_core': 0, 'tags': 1, 'coordinate': (9.954, 9.704), 'is_tagged': 1, 'final_tags': 1}), (25, {'is_core': 0, 'tags': 1, 'coordinate': (9.796, 10.378), 'is_tagged': 1, 'final_tags': 1}), (26, {'is_core': 1, 'tags': 1, 'coordinate': (10.386, 10.608), 'is_tagged': 1, 'final_tags': 1}), (27, {'is_core': 0, 'tags': 1, 'coordinate': (10.41, 9.912), 'is_tagged': 1, 'final_tags': 1}), (28, {'is_core': 1, 'tags': 1, 'coordinate': (10.172, 10.598), 'is_tagged': 1, 'final_tags': 1}), (29, {'is_core': 0, 'tags': 1, 'coordinate': (10.286, 9.712), 'is_tagged': 1, 'final_tags': 1}), (30, {'is_core': 0, 'tags': 1, 'coordinate': (9.932, 10.234), 'is_tagged': 1, 'final_tags': 1}), (31, {'is_core': 0, 'tags': 1, 'coordinate': (10.298, 9.948), 'is_tagged': 1, 'final_tags': 1}), (32, {'is_core': 0, 'tags': 1, 'coordinate': (10.352, 9.932), 'is_tagged': 1, 'final_tags': 1}), (33, {'is_core': 0, 'tags': 1, 'coordinate': (9.848, 10.328), 'is_tagged': 1, 'final_tags': 1}), (34, {'is_core': 1, 'tags': 1, 'coordinate': (10.514, 10.498), 'is_tagged': 1, 'final_tags': 1}), (35, {'is_core': 0, 'tags': 1, 'coordinate': (9.944, 9.934), 'is_tagged': 1, 'final_tags': 1}), (36, {'is_core': 0, 'tags': 1, 'coordinate': (9.92, 10.022), 'is_tagged': 1, 'final_tags': 1}), (37, {'is_core': 1, 'tags': 1, 'coordinate': (9.908, 10.606), 'is_tagged': 1, 'final_tags': 1}), (38, {'is_core': 0, 'tags': 1, 'coordinate': (10.182, 9.99), 'is_tagged': 1, 'final_tags': 1}), (39, {'is_core': 1, 'tags': 1, 'coordinate': (10.256, 9.25), 'is_tagged': 1, 'final_tags': 1}), (161, {'is_core': 0, 'tags': -1, 'coordinate': (8.164, 10.534), 'is_tagged': 1, 'final_tags': -1}), (162, {'is_core': 0, 'tags': -1, 'coordinate': (8.214, 10.62), 'is_tagged': 1, 'final_tags': -1}), (168, {'is_core': 0, 'tags': -1, 'coordinate': (8.494, 10.584), 'is_tagged': 1, 'final_tags': -1}), (169, {'is_core': 0, 'tags': -1, 'coordinate': (8.354, 10.38), 'is_tagged': 1, 'final_tags': -1}), (174, {'is_core': 0, 'tags': -1, 'coordinate': (8.28, 10.104), 'is_tagged': 1, 'final_tags': -1}), (176, {'is_core': 1, 'tags': 2, 'coordinate': (8.068, 10.118), 'is_tagged': 1, 'final_tags': 2}), (183, {'is_core': 0, 'tags': -1, 'coordinate': (7.622, 10.148), 'is_tagged': 1, 'final_tags': -1}), (187, {'is_core': 0, 'tags': -1, 'coordinate': (8.004, 10.574), 'is_tagged': 1, 'final_tags': -1}), (199, {'is_core': 0, 'tags': -1, 'coordinate': (8.224, 10.316), 'is_tagged': 1, 'final_tags': -1}), (200, {'is_core': 0, 'tags': 2, 'coordinate': (7.976, 9.578), 'is_tagged': 1, 'final_tags': 2}), (201, {'is_core': 0, 'tags': 2, 'coordinate': (7.876, 8.796), 'is_tagged': 1, 'final_tags': 2}), (202, {'is_core': 0, 'tags': 2, 'coordinate': (8.172, 9.01), 'is_tagged': 1, 'final_tags': 2}), (203, {'is_core': 0, 'tags': 2, 'coordinate': (8.068, 9.202), 'is_tagged': 1, 'final_tags': 2}), (204, {'is_core': 0, 'tags': 2, 'coordinate': (8.416, 8.654), 'is_tagged': 1, 'final_tags': 2}), (205, {'is_core': 1, 'tags': 2, 'coordinate': (8.71, 8.458), 'is_tagged': 1, 'final_tags': 2}), (206, {'is_core': 1, 'tags': 2, 'coordinate': (8.056, 8.434), 'is_tagged': 1, 'final_tags': 2}), (207, {'is_core': 1, 'tags': 2, 'coordinate': (7.304, 9.266), 'is_tagged': 1, 'final_tags': 2}), (208, {'is_core': 0, 'tags': 2, 'coordinate': (8.118, 8.608), 'is_tagged': 1, 'final_tags': 2}), (209, {'is_core': 0, 'tags': 2, 'coordinate': (7.616, 9.446), 'is_tagged': 1, 'final_tags': 2}), (210, {'is_core': 0, 'tags': 2, 'coordinate': (8.092, 8.956), 'is_tagged': 1, 'final_tags': 2}), (211, {'is_core': 0, 'tags': 2, 'coordinate': (8.368, 8.968), 'is_tagged': 1, 'final_tags': 2}), (212, {'is_core': 0, 'tags': 2, 'coordinate': (8.022, 9.334), 'is_tagged': 1, 'final_tags': 2}), (213, {'is_core': 0, 'tags': 2, 'coordinate': (8.32, 9.062), 'is_tagged': 1, 'final_tags': 2}), (214, {'is_core': 0, 'tags': 2, 'coordinate': (7.832, 8.952), 'is_tagged': 1, 'final_tags': 2}), (215, {'is_core': 1, 'tags': 2, 'coordinate': (7.704, 8.672), 'is_tagged': 1, 'final_tags': 2}), (216, {'is_core': 0, 'tags': 2, 'coordinate': (8.236, 9.108), 'is_tagged': 1, 'final_tags': 2}), (217, {'is_core': 0, 'tags': 2, 'coordinate': (8.37, 8.904), 'is_tagged': 1, 'final_tags': 2}), (218, {'is_core': 0, 'tags': 2, 'coordinate': (8.352, 8.896), 'is_tagged': 1, 'final_tags': 2}), (219, {'is_core': 0, 'tags': 2, 'coordinate': (8.046, 9.228), 'is_tagged': 1, 'final_tags': 2}), (220, {'is_core': 1, 'tags': 2, 'coordinate': (7.71, 9.538), 'is_tagged': 1, 'final_tags': 2}), (221, {'is_core': 1, 'tags': 2, 'coordinate': (8.534, 8.55), 'is_tagged': 1, 'final_tags': 2}), (222, {'is_core': 0, 'tags': 2, 'coordinate': (7.996, 9.172), 'is_tagged': 1, 'final_tags': 2}), (223, {'is_core': 0, 'tags': 2, 'coordinate': (8.046, 9.204), 'is_tagged': 1, 'final_tags': 2}), (224, {'is_core': 1, 'tags': 2, 'coordinate': (8.622, 9.174), 'is_tagged': 1, 'final_tags': 2}), (225, {'is_core': 0, 'tags': 2, 'coordinate': (7.776, 8.898), 'is_tagged': 1, 'final_tags': 2}), (226, {'is_core': 0, 'tags': 2, 'coordinate': (8.226, 9.038), 'is_tagged': 1, 'final_tags': 2}), (227, {'is_core': 0, 'tags': 2, 'coordinate': (7.904, 9.194), 'is_tagged': 1, 'final_tags': 2}), (228, {'is_core': 0, 'tags': 2, 'coordinate': (7.874, 8.856), 'is_tagged': 1, 'final_tags': 2}), (229, {'is_core': 0, 'tags': 2, 'coordinate': (7.992, 8.952), 'is_tagged': 1, 'final_tags': 2}), (230, {'is_core': 0, 'tags': 2, 'coordinate': (8.262, 9.468), 'is_tagged': 1, 'final_tags': 2}), (231, {'is_core': 0, 'tags': 2, 'coordinate': (8.088, 9.294), 'is_tagged': 1, 'final_tags': 2}), (232, {'is_core': 1, 'tags': 2, 'coordinate': (8.034, 9.792), 'is_tagged': 1, 'final_tags': 2}), (233, {'is_core': 0, 'tags': 2, 'coordinate': (8.352, 9.016), 'is_tagged': 1, 'final_tags': 2}), (234, {'is_core': 0, 'tags': 2, 'coordinate': (7.85, 9.334), 'is_tagged': 1, 'final_tags': 2}), (235, {'is_core': 0, 'tags': 2, 'coordinate': (8.404, 9.366), 'is_tagged': 1, 'final_tags': 2}), (236, {'is_core': 0, 'tags': 2, 'coordinate': (7.892, 8.808), 'is_tagged': 1, 'final_tags': 2}), (237, {'is_core': 0, 'tags': 2, 'coordinate': (8.202, 9.232), 'is_tagged': 1, 'final_tags': 2}), (238, {'is_core': 0, 'tags': 2, 'coordinate': (7.668, 9.026), 'is_tagged': 1, 'final_tags': 2}), (239, {'is_core': 0, 'tags': 2, 'coordinate': (8.242, 9.308), 'is_tagged': 1, 'final_tags': 2}), (240, {'is_core': 1, 'tags': 3, 'coordinate': (9.432, 8.61), 'is_tagged': 1, 'final_tags': 3}), (241, {'is_core': 1, 'tags': 3, 'coordinate': (10.066, 8.19), 'is_tagged': 1, 'final_tags': 3}), (242, {'is_core': 0, 'tags': 3, 'coordinate': (9.146, 8.044), 'is_tagged': 1, 'final_tags': 3}), (243, {'is_core': 0, 'tags': 3, 'coordinate': (9.662, 7.866), 'is_tagged': 1, 'final_tags': 3}), (244, {'is_core': 0, 'tags': 3, 'coordinate': (9.6, 7.874), 'is_tagged': 1, 'final_tags': 3}), (245, {'is_core': 1, 'tags': 2, 'coordinate': (8.618, 8.552), 'is_tagged': 1, 'final_tags': 2}), (246, {'is_core': 0, 'tags': 3, 'coordinate': (9.334, 7.658), 'is_tagged': 1, 'final_tags': 3}), (247, {'is_core': 0, 'tags': 3, 'coordinate': (9.424, 7.83), 'is_tagged': 1, 'final_tags': 3}), (248, {'is_core': 1, 'tags': 3, 'coordinate': (8.892, 8.166), 'is_tagged': 1, 'final_tags': 3}), (249, {'is_core': 0, 'tags': 3, 'coordinate': (9.386, 7.746), 'is_tagged': 1, 'final_tags': 3}), (250, {'is_core': 0, 'tags': 3, 'coordinate': (9.878, 8.054), 'is_tagged': 1, 'final_tags': 3}), (251, {'is_core': 0, 'tags': 3, 'coordinate': (9.558, 7.948), 'is_tagged': 1, 'final_tags': 3}), (252, {'is_core': 0, 'tags': 3, 'coordinate': (9.222, 8.002), 'is_tagged': 1, 'final_tags': 3}), (253, {'is_core': 0, 'tags': 3, 'coordinate': (9.52, 8.282), 'is_tagged': 1, 'final_tags': 3}), (254, {'is_core': 0, 'tags': 3, 'coordinate': (9.76, 7.932), 'is_tagged': 1, 'final_tags': 3}), (255, {'is_core': 0, 'tags': 3, 'coordinate': (9.568, 8.052), 'is_tagged': 1, 'final_tags': 3}), (256, {'is_core': 0, 'tags': 3, 'coordinate': (9.736, 7.552), 'is_tagged': 1, 'final_tags': 3}), (257, {'is_core': 0, 'tags': 3, 'coordinate': (9.584, 8.478), 'is_tagged': 1, 'final_tags': 3}), (258, {'is_core': 0, 'tags': 3, 'coordinate': (9.358, 8.242), 'is_tagged': 1, 'final_tags': 3}), (259, {'is_core': 0, 'tags': 3, 'coordinate': (9.404, 7.79), 'is_tagged': 1, 'final_tags': 3}), (260, {'is_core': 1, 'tags': 3, 'coordinate': (9.458, 8.54), 'is_tagged': 1, 'final_tags': 3}), (261, {'is_core': 0, 'tags': 3, 'coordinate': (9.482, 7.766), 'is_tagged': 1, 'final_tags': 3}), (262, {'is_core': 1, 'tags': 3, 'coordinate': (8.844, 8.024), 'is_tagged': 1, 'final_tags': 3}), (263, {'is_core': 0, 'tags': 3, 'coordinate': (9.29, 8.472), 'is_tagged': 1, 'final_tags': 3}), (264, {'is_core': 0, 'tags': 3, 'coordinate': (9.274, 7.566), 'is_tagged': 1, 'final_tags': 3}), (265, {'is_core': 0, 'tags': 3, 'coordinate': (9.11, 8.014), 'is_tagged': 1, 'final_tags': 3}), (266, {'is_core': 0, 'tags': 3, 'coordinate': (9.542, 7.688), 'is_tagged': 1, 'final_tags': 3}), (267, {'is_core': 0, 'tags': 3, 'coordinate': (9.432, 8.122), 'is_tagged': 1, 'final_tags': 3}), (268, {'is_core': 0, 'tags': 3, 'coordinate': (9.786, 8.066), 'is_tagged': 1, 'final_tags': 3}), (269, {'is_core': 0, 'tags': 3, 'coordinate': (9.382, 7.664), 'is_tagged': 1, 'final_tags': 3}), (270, {'is_core': 0, 'tags': 3, 'coordinate': (9.404, 8.228), 'is_tagged': 1, 'final_tags': 3}), (271, {'is_core': 0, 'tags': 3, 'coordinate': (9.146, 8.158), 'is_tagged': 1, 'final_tags': 3}), (272, {'is_core': 0, 'tags': 3, 'coordinate': (9.622, 8.004), 'is_tagged': 1, 'final_tags': 3}), (273, {'is_core': 1, 'tags': 3, 'coordinate': (10.286, 7.892), 'is_tagged': 1, 'final_tags': 3}), (274, {'is_core': 0, 'tags': 3, 'coordinate': (9.43, 7.676), 'is_tagged': 1, 'final_tags': 3}), (275, {'is_core': 0, 'tags': 3, 'coordinate': (9.44, 8.058), 'is_tagged': 1, 'final_tags': 3}), (276, {'is_core': 0, 'tags': 3, 'coordinate': (9.788, 7.684), 'is_tagged': 1, 'final_tags': 3}), (277, {'is_core': 0, 'tags': 3, 'coordinate': (9.586, 7.91), 'is_tagged': 1, 'final_tags': 3}), (278, {'is_core': 0, 'tags': 3, 'coordinate': (9.694, 7.448), 'is_tagged': 1, 'final_tags': 3}), (279, {'is_core': 0, 'tags': 3, 'coordinate': (9.576, 7.866), 'is_tagged': 1, 'final_tags': 3}), (282, {'is_core': 0, 'tags': -1, 'coordinate': (10.674, 8.936), 'is_tagged': 1, 'final_tags': -1}), (305, {'is_core': 0, 'tags': -1, 'coordinate': (10.78, 8.294), 'is_tagged': 1, 'final_tags': -1}), (315, {'is_core': 0, 'tags': -1, 'coordinate': (10.718, 8.534), 'is_tagged': 1, 'final_tags': -1}), (316, {'is_core': 0, 'tags': -1, 'coordinate': (10.444, 8.684), 'is_tagged': 1, 'final_tags': -1}), (480, {'is_core': 0, 'tags': 4, 'coordinate': (3.9, 6.742), 'is_tagged': 1, 'final_tags': 4}), (481, {'is_core': 0, 'tags': 4, 'coordinate': (3.994, 7.206), 'is_tagged': 1, 'final_tags': 4}), (482, {'is_core': 0, 'tags': 4, 'coordinate': (4.278, 7.222), 'is_tagged': 1, 'final_tags': 4}), (483, {'is_core': 0, 'tags': 4, 'coordinate': (4.172, 6.848), 'is_tagged': 1, 'final_tags': 4}), (484, {'is_core': 0, 'tags': 4, 'coordinate': (3.882, 6.894), 'is_tagged': 1, 'final_tags': 4}), (485, {'is_core': 0, 'tags': 4, 'coordinate': (3.936, 6.994), 'is_tagged': 1, 'final_tags': 4}), (486, {'is_core': 0, 'tags': 4, 'coordinate': (4.162, 6.87), 'is_tagged': 1, 'final_tags': 4}), (487, {'is_core': 0, 'tags': 4, 'coordinate': (3.762, 7.1), 'is_tagged': 1, 'final_tags': 4}), (488, {'is_core': 0, 'tags': 4, 'coordinate': (4.256, 7.612), 'is_tagged': 1, 'final_tags': 4}), (489, {'is_core': 0, 'tags': 4, 'coordinate': (4.55, 6.822), 'is_tagged': 1, 'final_tags': 4}), (490, {'is_core': 0, 'tags': 4, 'coordinate': (4.062, 6.984), 'is_tagged': 1, 'final_tags': 4}), (491, {'is_core': 0, 'tags': 4, 'coordinate': (4.026, 7.23), 'is_tagged': 1, 'final_tags': 4}), (492, {'is_core': 0, 'tags': 4, 'coordinate': (4.364, 7.184), 'is_tagged': 1, 'final_tags': 4}), (493, {'is_core': 0, 'tags': 4, 'coordinate': (4.292, 7.208), 'is_tagged': 1, 'final_tags': 4}), (494, {'is_core': 0, 'tags': 4, 'coordinate': (4.288, 6.91), 'is_tagged': 1, 'final_tags': 4}), (495, {'is_core': 0, 'tags': 4, 'coordinate': (4.018, 7.062), 'is_tagged': 1, 'final_tags': 4}), (496, {'is_core': 0, 'tags': 4, 'coordinate': (4.07, 7.104), 'is_tagged': 1, 'final_tags': 4}), (497, {'is_core': 1, 'tags': 4, 'coordinate': (4.548, 7.654), 'is_tagged': 1, 'final_tags': 4}), (498, {'is_core': 0, 'tags': 4, 'coordinate': (4.402, 7.082), 'is_tagged': 1, 'final_tags': 4}), (499, {'is_core': 1, 'tags': 4, 'coordinate': (3.692, 7.49), 'is_tagged': 1, 'final_tags': 4}), (500, {'is_core': 1, 'tags': 4, 'coordinate': (4.888, 7.194), 'is_tagged': 1, 'final_tags': 4}), (501, {'is_core': 0, 'tags': 4, 'coordinate': (4.456, 7.146), 'is_tagged': 1, 'final_tags': 4}), (502, {'is_core': 0, 'tags': 4, 'coordinate': (4.732, 7.154), 'is_tagged': 1, 'final_tags': 4}), (503, {'is_core': 0, 'tags': 4, 'coordinate': (4.088, 7.212), 'is_tagged': 1, 'final_tags': 4}), (504, {'is_core': 0, 'tags': 4, 'coordinate': (4.502, 6.928), 'is_tagged': 1, 'final_tags': 4}), (505, {'is_core': 1, 'tags': 4, 'coordinate': (3.402, 7.434), 'is_tagged': 1, 'final_tags': 4}), (506, {'is_core': 0, 'tags': 4, 'coordinate': (4.246, 6.692), 'is_tagged': 1, 'final_tags': 4}), (507, {'is_core': 0, 'tags': 4, 'coordinate': (4.166, 7.256), 'is_tagged': 1, 'final_tags': 4}), (508, {'is_core': 1, 'tags': 4, 'coordinate': (4.852, 6.83), 'is_tagged': 1, 'final_tags': 4}), (509, {'is_core': 0, 'tags': 4, 'coordinate': (4.398, 7.428), 'is_tagged': 1, 'final_tags': 4}), (510, {'is_core': 1, 'tags': 4, 'coordinate': (5.016, 7.054), 'is_tagged': 1, 'final_tags': 4}), (511, {'is_core': 0, 'tags': 4, 'coordinate': (4.25, 6.76), 'is_tagged': 1, 'final_tags': 4}), (512, {'is_core': 0, 'tags': 4, 'coordinate': (3.738, 7.082), 'is_tagged': 1, 'final_tags': 4}), (513, {'is_core': 0, 'tags': 4, 'coordinate': (4.254, 7.264), 'is_tagged': 1, 'final_tags': 4}), (514, {'is_core': 0, 'tags': 4, 'coordinate': (4.122, 7.238), 'is_tagged': 1, 'final_tags': 4}), (515, {'is_core': 0, 'tags': 4, 'coordinate': (3.878, 7.232), 'is_tagged': 1, 'final_tags': 4}), (516, {'is_core': 0, 'tags': 4, 'coordinate': (4.55, 7.29), 'is_tagged': 1, 'final_tags': 4}), (517, {'is_core': 0, 'tags': 4, 'coordinate': (4.03, 7.126), 'is_tagged': 1, 'final_tags': 4}), (518, {'is_core': 0, 'tags': 4, 'coordinate': (4.412, 7.022), 'is_tagged': 1, 'final_tags': 4}), (519, {'is_core': 0, 'tags': 4, 'coordinate': (4.276, 7.244), 'is_tagged': 1, 'final_tags': 4}), (520, {'is_core': 0, 'tags': 5, 'coordinate': (8.376, 3.788), 'is_tagged': 1, 'final_tags': 5}), (521, {'is_core': 0, 'tags': 5, 'coordinate': (8.81, 3.864), 'is_tagged': 1, 'final_tags': 5}), (522, {'is_core': 0, 'tags': 5, 'coordinate': (8.218, 3.548), 'is_tagged': 1, 'final_tags': 5}), (523, {'is_core': 0, 'tags': 5, 'coordinate': (8.374, 3.748), 'is_tagged': 1, 'final_tags': 5}), (524, {'is_core': 1, 'tags': 5, 'coordinate': (8.102, 4.3), 'is_tagged': 1, 'final_tags': 5}), (525, {'is_core': 0, 'tags': 5, 'coordinate': (8.386, 3.952), 'is_tagged': 1, 'final_tags': 5}), (526, {'is_core': 1, 'tags': 5, 'coordinate': (8.858, 3.274), 'is_tagged': 1, 'final_tags': 5}), (527, {'is_core': 0, 'tags': 5, 'coordinate': (8.884, 3.504), 'is_tagged': 1, 'final_tags': 5}), (528, {'is_core': 0, 'tags': 5, 'coordinate': (8.294, 3.38), 'is_tagged': 1, 'final_tags': 5}), (529, {'is_core': 1, 'tags': 5, 'coordinate': (8.38, 3.178), 'is_tagged': 1, 'final_tags': 5}), (530, {'is_core': 0, 'tags': 5, 'coordinate': (8.738, 4.294), 'is_tagged': 1, 'final_tags': 5}), (531, {'is_core': 0, 'tags': 5, 'coordinate': (9.1, 3.84), 'is_tagged': 1, 'final_tags': 5}), (532, {'is_core': 0, 'tags': 5, 'coordinate': (9.086, 3.6), 'is_tagged': 1, 'final_tags': 5}), (533, {'is_core': 0, 'tags': 5, 'coordinate': (8.616, 3.45), 'is_tagged': 1, 'final_tags': 5}), (534, {'is_core': 0, 'tags': 5, 'coordinate': (8.624, 3.698), 'is_tagged': 1, 'final_tags': 5}), (535, {'is_core': 0, 'tags': 5, 'coordinate': (8.632, 3.82), 'is_tagged': 1, 'final_tags': 5}), (536, {'is_core': 0, 'tags': 5, 'coordinate': (8.286, 3.704), 'is_tagged': 1, 'final_tags': 5}), (537, {'is_core': 0, 'tags': 5, 'coordinate': (8.816, 3.58), 'is_tagged': 1, 'final_tags': 5}), (538, {'is_core': 0, 'tags': 5, 'coordinate': (8.722, 3.854), 'is_tagged': 1, 'final_tags': 5}), (539, {'is_core': 0, 'tags': 5, 'coordinate': (8.298, 3.378), 'is_tagged': 1, 'final_tags': 5}), (540, {'is_core': 0, 'tags': 5, 'coordinate': (9.014, 4.034), 'is_tagged': 1, 'final_tags': 5}), (541, {'is_core': 0, 'tags': 5, 'coordinate': (8.87, 3.554), 'is_tagged': 1, 'final_tags': 5}), (542, {'is_core': 0, 'tags': 5, 'coordinate': (8.562, 3.662), 'is_tagged': 1, 'final_tags': 5}), (543, {'is_core': 0, 'tags': 5, 'coordinate': (8.6, 3.828), 'is_tagged': 1, 'final_tags': 5}), (544, {'is_core': 0, 'tags': 5, 'coordinate': (8.94, 3.836), 'is_tagged': 1, 'final_tags': 5}), (545, {'is_core': 0, 'tags': 5, 'coordinate': (8.768, 4.32), 'is_tagged': 1, 'final_tags': 5}), (546, {'is_core': 0, 'tags': 5, 'coordinate': (8.838, 3.926), 'is_tagged': 1, 'final_tags': 5}), (547, {'is_core': 0, 'tags': 5, 'coordinate': (8.288, 3.466), 'is_tagged': 1, 'final_tags': 5}), (548, {'is_core': 0, 'tags': 5, 'coordinate': (8.652, 3.782), 'is_tagged': 1, 'final_tags': 5}), (549, {'is_core': 0, 'tags': 5, 'coordinate': (8.376, 3.956), 'is_tagged': 1, 'final_tags': 5}), (550, {'is_core': 1, 'tags': 5, 'coordinate': (7.724, 3.414), 'is_tagged': 1, 'final_tags': 5}), (551, {'is_core': 0, 'tags': 5, 'coordinate': (8.374, 4.136), 'is_tagged': 1, 'final_tags': 5}), (552, {'is_core': 0, 'tags': 5, 'coordinate': (8.6, 3.712), 'is_tagged': 1, 'final_tags': 5}), (553, {'is_core': 0, 'tags': 5, 'coordinate': (9.026, 3.788), 'is_tagged': 1, 'final_tags': 5}), (554, {'is_core': 0, 'tags': 5, 'coordinate': (8.534, 3.252), 'is_tagged': 1, 'final_tags': 5}), (555, {'is_core': 0, 'tags': 5, 'coordinate': (8.874, 3.602), 'is_tagged': 1, 'final_tags': 5}), (556, {'is_core': 0, 'tags': 5, 'coordinate': (8.796, 3.888), 'is_tagged': 1, 'final_tags': 5}), (557, {'is_core': 0, 'tags': 5, 'coordinate': (8.592, 3.988), 'is_tagged': 1, 'final_tags': 5}), (558, {'is_core': 0, 'tags': 5, 'coordinate': (8.98, 4.014), 'is_tagged': 1, 'final_tags': 5}), (559, {'is_core': 0, 'tags': 5, 'coordinate': (8.562, 3.856), 'is_tagged': 1, 'final_tags': 5})])\n",
            "dict_items([])\n",
            "dict_items([])\n",
            "dict_items([])\n",
            "4\n"
          ]
        }
      ]
    },
    {
      "cell_type": "code",
      "metadata": {
        "id": "hF8QV13V5tWx"
      },
      "source": [
        "import numpy as np\n",
        "import matplotlib.pyplot as plt\n",
        "from  matplotlib.colors import  rgb2hex\n",
        "def plot_result(final_dict, style=\"ticks\"):\n",
        "    x_list = []\n",
        "    y_list = []\n",
        "    label = []\n",
        "    for key, value in final_dict.items():\n",
        "        x_list.append(value[\"coordinate\"][0])\n",
        "        y_list.append(value[\"coordinate\"][1])\n",
        "        label.append(value[\"final_tags\"])\n",
        "        \n",
        "    df = pd.DataFrame()\n",
        "    df['x'] = x_list\n",
        "    df['y'] = y_list\n",
        "    df['label'] = label\n",
        " \n",
        "    sns.set_style(style)\n",
        "    f, axes = plt.subplots(1, 2, sharex=True, sharey=True)\n",
        "\n",
        "    sns.scatterplot('x', 'y', data=df, ax=axes[0], palette='Blues_d')\n",
        "    sns.scatterplot('x', 'y', data=df, hue='label', ax=axes[1])\n",
        "\n",
        "    plt.title('DBSCAN Result')\n",
        "    plt.xlabel('x')\n",
        "    plt.ylabel('y')\n",
        "\n",
        "    plt.gca().get_legend().set_visible(False)\n",
        "\n",
        "    plt.tight_layout()\n",
        "    plt.show()"
      ],
      "execution_count": 27,
      "outputs": []
    },
    {
      "cell_type": "code",
      "metadata": {
        "colab": {
          "base_uri": "https://localhost:8080/"
        },
        "id": "ELJh12_F5v4P",
        "outputId": "ba5616ce-49e1-425b-f418-6b1392ba3a45"
      },
      "source": [
        "final_dict = {} \n",
        "\n",
        "#print(info_dict.items())\n",
        "count = 0\n",
        "\n",
        "for key, value in info_dict.items():\n",
        "    count = count + 1\n",
        "    print(value.items())\n",
        "\n",
        "print(count)\n",
        "    #final_dict = dict(final_dict.items()+value.items())\n",
        "\n",
        "#plot_result(final_dict, \"ticks\")"
      ],
      "execution_count": 33,
      "outputs": [
        {
          "output_type": "stream",
          "name": "stdout",
          "text": [
            "dict_items([(0, {'is_core': 0, 'tags': 1, 'coordinate': (9.802, 10.132), 'is_tagged': 1, 'final_tags': 1}), (1, {'is_core': 0, 'tags': 1, 'coordinate': (10.35, 9.768), 'is_tagged': 1, 'final_tags': 1}), (2, {'is_core': 0, 'tags': 1, 'coordinate': (10.098, 9.988), 'is_tagged': 1, 'final_tags': 1}), (3, {'is_core': 0, 'tags': 1, 'coordinate': (9.73, 9.91), 'is_tagged': 1, 'final_tags': 1}), (4, {'is_core': 0, 'tags': 1, 'coordinate': (9.754, 10.43), 'is_tagged': 1, 'final_tags': 1}), (5, {'is_core': 0, 'tags': 1, 'coordinate': (9.836, 9.902), 'is_tagged': 1, 'final_tags': 1}), (6, {'is_core': 0, 'tags': 1, 'coordinate': (10.238, 9.866), 'is_tagged': 1, 'final_tags': 1}), (7, {'is_core': 0, 'tags': 1, 'coordinate': (9.53, 9.862), 'is_tagged': 1, 'final_tags': 1}), (8, {'is_core': 0, 'tags': 1, 'coordinate': (10.154, 9.82), 'is_tagged': 1, 'final_tags': 1}), (9, {'is_core': 1, 'tags': 1, 'coordinate': (9.336, 10.456), 'is_tagged': 1, 'final_tags': 1}), (10, {'is_core': 1, 'tags': 1, 'coordinate': (9.378, 10.21), 'is_tagged': 1, 'final_tags': 1}), (11, {'is_core': 0, 'tags': 1, 'coordinate': (9.712, 10.264), 'is_tagged': 1, 'final_tags': 1}), (12, {'is_core': 0, 'tags': 1, 'coordinate': (9.638, 10.208), 'is_tagged': 1, 'final_tags': 1}), (13, {'is_core': 0, 'tags': 1, 'coordinate': (9.518, 9.956), 'is_tagged': 1, 'final_tags': 1}), (14, {'is_core': 0, 'tags': 1, 'coordinate': (10.236, 9.91), 'is_tagged': 1, 'final_tags': 1}), (15, {'is_core': 0, 'tags': 1, 'coordinate': (9.4, 10.086), 'is_tagged': 1, 'final_tags': 1}), (16, {'is_core': 0, 'tags': 1, 'coordinate': (10.196, 9.746), 'is_tagged': 1, 'final_tags': 1}), (17, {'is_core': 0, 'tags': 1, 'coordinate': (10.138, 9.828), 'is_tagged': 1, 'final_tags': 1}), (18, {'is_core': 0, 'tags': 1, 'coordinate': (10.062, 10.26), 'is_tagged': 1, 'final_tags': 1}), (19, {'is_core': 0, 'tags': 1, 'coordinate': (10.394, 9.984), 'is_tagged': 1, 'final_tags': 1}), (20, {'is_core': 0, 'tags': 1, 'coordinate': (10.284, 10.348), 'is_tagged': 1, 'final_tags': 1}), (21, {'is_core': 0, 'tags': 1, 'coordinate': (9.706, 9.978), 'is_tagged': 1, 'final_tags': 1}), (22, {'is_core': 1, 'tags': 1, 'coordinate': (9.906, 10.588), 'is_tagged': 1, 'final_tags': 1}), (23, {'is_core': 1, 'tags': 1, 'coordinate': (10.356, 9.198), 'is_tagged': 1, 'final_tags': 1}), (24, {'is_core': 0, 'tags': 1, 'coordinate': (9.954, 9.704), 'is_tagged': 1, 'final_tags': 1}), (25, {'is_core': 0, 'tags': 1, 'coordinate': (9.796, 10.378), 'is_tagged': 1, 'final_tags': 1}), (26, {'is_core': 1, 'tags': 1, 'coordinate': (10.386, 10.608), 'is_tagged': 1, 'final_tags': 1}), (27, {'is_core': 0, 'tags': 1, 'coordinate': (10.41, 9.912), 'is_tagged': 1, 'final_tags': 1}), (28, {'is_core': 1, 'tags': 1, 'coordinate': (10.172, 10.598), 'is_tagged': 1, 'final_tags': 1}), (29, {'is_core': 0, 'tags': 1, 'coordinate': (10.286, 9.712), 'is_tagged': 1, 'final_tags': 1}), (30, {'is_core': 0, 'tags': 1, 'coordinate': (9.932, 10.234), 'is_tagged': 1, 'final_tags': 1}), (31, {'is_core': 0, 'tags': 1, 'coordinate': (10.298, 9.948), 'is_tagged': 1, 'final_tags': 1}), (32, {'is_core': 0, 'tags': 1, 'coordinate': (10.352, 9.932), 'is_tagged': 1, 'final_tags': 1}), (33, {'is_core': 0, 'tags': 1, 'coordinate': (9.848, 10.328), 'is_tagged': 1, 'final_tags': 1}), (34, {'is_core': 1, 'tags': 1, 'coordinate': (10.514, 10.498), 'is_tagged': 1, 'final_tags': 1}), (35, {'is_core': 0, 'tags': 1, 'coordinate': (9.944, 9.934), 'is_tagged': 1, 'final_tags': 1}), (36, {'is_core': 0, 'tags': 1, 'coordinate': (9.92, 10.022), 'is_tagged': 1, 'final_tags': 1}), (37, {'is_core': 1, 'tags': 1, 'coordinate': (9.908, 10.606), 'is_tagged': 1, 'final_tags': 1}), (38, {'is_core': 0, 'tags': 1, 'coordinate': (10.182, 9.99), 'is_tagged': 1, 'final_tags': 1}), (39, {'is_core': 1, 'tags': 1, 'coordinate': (10.256, 9.25), 'is_tagged': 1, 'final_tags': 1}), (161, {'is_core': 0, 'tags': -1, 'coordinate': (8.164, 10.534), 'is_tagged': 1, 'final_tags': -1}), (162, {'is_core': 0, 'tags': -1, 'coordinate': (8.214, 10.62), 'is_tagged': 1, 'final_tags': -1}), (168, {'is_core': 0, 'tags': -1, 'coordinate': (8.494, 10.584), 'is_tagged': 1, 'final_tags': -1}), (169, {'is_core': 0, 'tags': -1, 'coordinate': (8.354, 10.38), 'is_tagged': 1, 'final_tags': -1}), (174, {'is_core': 0, 'tags': -1, 'coordinate': (8.28, 10.104), 'is_tagged': 1, 'final_tags': -1}), (176, {'is_core': 1, 'tags': 2, 'coordinate': (8.068, 10.118), 'is_tagged': 1, 'final_tags': 2}), (183, {'is_core': 0, 'tags': -1, 'coordinate': (7.622, 10.148), 'is_tagged': 1, 'final_tags': -1}), (187, {'is_core': 0, 'tags': -1, 'coordinate': (8.004, 10.574), 'is_tagged': 1, 'final_tags': -1}), (199, {'is_core': 0, 'tags': -1, 'coordinate': (8.224, 10.316), 'is_tagged': 1, 'final_tags': -1}), (200, {'is_core': 0, 'tags': 2, 'coordinate': (7.976, 9.578), 'is_tagged': 1, 'final_tags': 2}), (201, {'is_core': 0, 'tags': 2, 'coordinate': (7.876, 8.796), 'is_tagged': 1, 'final_tags': 2}), (202, {'is_core': 0, 'tags': 2, 'coordinate': (8.172, 9.01), 'is_tagged': 1, 'final_tags': 2}), (203, {'is_core': 0, 'tags': 2, 'coordinate': (8.068, 9.202), 'is_tagged': 1, 'final_tags': 2}), (204, {'is_core': 0, 'tags': 2, 'coordinate': (8.416, 8.654), 'is_tagged': 1, 'final_tags': 2}), (205, {'is_core': 1, 'tags': 2, 'coordinate': (8.71, 8.458), 'is_tagged': 1, 'final_tags': 2}), (206, {'is_core': 1, 'tags': 2, 'coordinate': (8.056, 8.434), 'is_tagged': 1, 'final_tags': 2}), (207, {'is_core': 1, 'tags': 2, 'coordinate': (7.304, 9.266), 'is_tagged': 1, 'final_tags': 2}), (208, {'is_core': 0, 'tags': 2, 'coordinate': (8.118, 8.608), 'is_tagged': 1, 'final_tags': 2}), (209, {'is_core': 0, 'tags': 2, 'coordinate': (7.616, 9.446), 'is_tagged': 1, 'final_tags': 2}), (210, {'is_core': 0, 'tags': 2, 'coordinate': (8.092, 8.956), 'is_tagged': 1, 'final_tags': 2}), (211, {'is_core': 0, 'tags': 2, 'coordinate': (8.368, 8.968), 'is_tagged': 1, 'final_tags': 2}), (212, {'is_core': 0, 'tags': 2, 'coordinate': (8.022, 9.334), 'is_tagged': 1, 'final_tags': 2}), (213, {'is_core': 0, 'tags': 2, 'coordinate': (8.32, 9.062), 'is_tagged': 1, 'final_tags': 2}), (214, {'is_core': 0, 'tags': 2, 'coordinate': (7.832, 8.952), 'is_tagged': 1, 'final_tags': 2}), (215, {'is_core': 1, 'tags': 2, 'coordinate': (7.704, 8.672), 'is_tagged': 1, 'final_tags': 2}), (216, {'is_core': 0, 'tags': 2, 'coordinate': (8.236, 9.108), 'is_tagged': 1, 'final_tags': 2}), (217, {'is_core': 0, 'tags': 2, 'coordinate': (8.37, 8.904), 'is_tagged': 1, 'final_tags': 2}), (218, {'is_core': 0, 'tags': 2, 'coordinate': (8.352, 8.896), 'is_tagged': 1, 'final_tags': 2}), (219, {'is_core': 0, 'tags': 2, 'coordinate': (8.046, 9.228), 'is_tagged': 1, 'final_tags': 2}), (220, {'is_core': 0, 'tags': 2, 'coordinate': (7.71, 9.538), 'is_tagged': 1, 'final_tags': 2}), (221, {'is_core': 1, 'tags': 2, 'coordinate': (8.534, 8.55), 'is_tagged': 1, 'final_tags': 2}), (222, {'is_core': 0, 'tags': 2, 'coordinate': (7.996, 9.172), 'is_tagged': 1, 'final_tags': 2}), (223, {'is_core': 0, 'tags': 2, 'coordinate': (8.046, 9.204), 'is_tagged': 1, 'final_tags': 2}), (224, {'is_core': 0, 'tags': 2, 'coordinate': (8.622, 9.174), 'is_tagged': 1, 'final_tags': 2}), (225, {'is_core': 0, 'tags': 2, 'coordinate': (7.776, 8.898), 'is_tagged': 1, 'final_tags': 2}), (226, {'is_core': 0, 'tags': 2, 'coordinate': (8.226, 9.038), 'is_tagged': 1, 'final_tags': 2}), (227, {'is_core': 0, 'tags': 2, 'coordinate': (7.904, 9.194), 'is_tagged': 1, 'final_tags': 2}), (228, {'is_core': 0, 'tags': 2, 'coordinate': (7.874, 8.856), 'is_tagged': 1, 'final_tags': 2}), (229, {'is_core': 0, 'tags': 2, 'coordinate': (7.992, 8.952), 'is_tagged': 1, 'final_tags': 2}), (230, {'is_core': 0, 'tags': 2, 'coordinate': (8.262, 9.468), 'is_tagged': 1, 'final_tags': 2}), (231, {'is_core': 0, 'tags': 2, 'coordinate': (8.088, 9.294), 'is_tagged': 1, 'final_tags': 2}), (232, {'is_core': 1, 'tags': 2, 'coordinate': (8.034, 9.792), 'is_tagged': 1, 'final_tags': 2}), (233, {'is_core': 0, 'tags': 2, 'coordinate': (8.352, 9.016), 'is_tagged': 1, 'final_tags': 2}), (234, {'is_core': 0, 'tags': 2, 'coordinate': (7.85, 9.334), 'is_tagged': 1, 'final_tags': 2}), (235, {'is_core': 0, 'tags': 2, 'coordinate': (8.404, 9.366), 'is_tagged': 1, 'final_tags': 2}), (236, {'is_core': 0, 'tags': 2, 'coordinate': (7.892, 8.808), 'is_tagged': 1, 'final_tags': 2}), (237, {'is_core': 0, 'tags': 2, 'coordinate': (8.202, 9.232), 'is_tagged': 1, 'final_tags': 2}), (238, {'is_core': 0, 'tags': 2, 'coordinate': (7.668, 9.026), 'is_tagged': 1, 'final_tags': 2}), (239, {'is_core': 0, 'tags': 2, 'coordinate': (8.242, 9.308), 'is_tagged': 1, 'final_tags': 2}), (240, {'is_core': 1, 'tags': 3, 'coordinate': (9.432, 8.61), 'is_tagged': 1, 'final_tags': 3}), (241, {'is_core': 1, 'tags': 3, 'coordinate': (10.066, 8.19), 'is_tagged': 1, 'final_tags': 3}), (242, {'is_core': 0, 'tags': 3, 'coordinate': (9.146, 8.044), 'is_tagged': 1, 'final_tags': 3}), (243, {'is_core': 0, 'tags': 3, 'coordinate': (9.662, 7.866), 'is_tagged': 1, 'final_tags': 3}), (244, {'is_core': 0, 'tags': 3, 'coordinate': (9.6, 7.874), 'is_tagged': 1, 'final_tags': 3}), (245, {'is_core': 1, 'tags': 2, 'coordinate': (8.618, 8.552), 'is_tagged': 1, 'final_tags': 2}), (246, {'is_core': 0, 'tags': 3, 'coordinate': (9.334, 7.658), 'is_tagged': 1, 'final_tags': 3}), (247, {'is_core': 0, 'tags': 3, 'coordinate': (9.424, 7.83), 'is_tagged': 1, 'final_tags': 3}), (248, {'is_core': 1, 'tags': 3, 'coordinate': (8.892, 8.166), 'is_tagged': 1, 'final_tags': 3}), (249, {'is_core': 0, 'tags': 3, 'coordinate': (9.386, 7.746), 'is_tagged': 1, 'final_tags': 3}), (250, {'is_core': 0, 'tags': 3, 'coordinate': (9.878, 8.054), 'is_tagged': 1, 'final_tags': 3}), (251, {'is_core': 0, 'tags': 3, 'coordinate': (9.558, 7.948), 'is_tagged': 1, 'final_tags': 3}), (252, {'is_core': 0, 'tags': 3, 'coordinate': (9.222, 8.002), 'is_tagged': 1, 'final_tags': 3}), (253, {'is_core': 0, 'tags': 3, 'coordinate': (9.52, 8.282), 'is_tagged': 1, 'final_tags': 3}), (254, {'is_core': 0, 'tags': 3, 'coordinate': (9.76, 7.932), 'is_tagged': 1, 'final_tags': 3}), (255, {'is_core': 0, 'tags': 3, 'coordinate': (9.568, 8.052), 'is_tagged': 1, 'final_tags': 3}), (256, {'is_core': 0, 'tags': 3, 'coordinate': (9.736, 7.552), 'is_tagged': 1, 'final_tags': 3}), (257, {'is_core': 0, 'tags': 3, 'coordinate': (9.584, 8.478), 'is_tagged': 1, 'final_tags': 3}), (258, {'is_core': 0, 'tags': 3, 'coordinate': (9.358, 8.242), 'is_tagged': 1, 'final_tags': 3}), (259, {'is_core': 0, 'tags': 3, 'coordinate': (9.404, 7.79), 'is_tagged': 1, 'final_tags': 3}), (260, {'is_core': 1, 'tags': 3, 'coordinate': (9.458, 8.54), 'is_tagged': 1, 'final_tags': 3}), (261, {'is_core': 0, 'tags': 3, 'coordinate': (9.482, 7.766), 'is_tagged': 1, 'final_tags': 3}), (262, {'is_core': 1, 'tags': 3, 'coordinate': (8.844, 8.024), 'is_tagged': 1, 'final_tags': 3}), (263, {'is_core': 0, 'tags': 3, 'coordinate': (9.29, 8.472), 'is_tagged': 1, 'final_tags': 3}), (264, {'is_core': 0, 'tags': 3, 'coordinate': (9.274, 7.566), 'is_tagged': 1, 'final_tags': 3}), (265, {'is_core': 0, 'tags': 3, 'coordinate': (9.11, 8.014), 'is_tagged': 1, 'final_tags': 3}), (266, {'is_core': 0, 'tags': 3, 'coordinate': (9.542, 7.688), 'is_tagged': 1, 'final_tags': 3}), (267, {'is_core': 0, 'tags': 3, 'coordinate': (9.432, 8.122), 'is_tagged': 1, 'final_tags': 3}), (268, {'is_core': 0, 'tags': 3, 'coordinate': (9.786, 8.066), 'is_tagged': 1, 'final_tags': 3}), (269, {'is_core': 0, 'tags': 3, 'coordinate': (9.382, 7.664), 'is_tagged': 1, 'final_tags': 3}), (270, {'is_core': 0, 'tags': 3, 'coordinate': (9.404, 8.228), 'is_tagged': 1, 'final_tags': 3}), (271, {'is_core': 0, 'tags': 3, 'coordinate': (9.146, 8.158), 'is_tagged': 1, 'final_tags': 3}), (272, {'is_core': 0, 'tags': 3, 'coordinate': (9.622, 8.004), 'is_tagged': 1, 'final_tags': 3}), (273, {'is_core': 1, 'tags': 3, 'coordinate': (10.286, 7.892), 'is_tagged': 1, 'final_tags': 3}), (274, {'is_core': 0, 'tags': 3, 'coordinate': (9.43, 7.676), 'is_tagged': 1, 'final_tags': 3}), (275, {'is_core': 0, 'tags': 3, 'coordinate': (9.44, 8.058), 'is_tagged': 1, 'final_tags': 3}), (276, {'is_core': 0, 'tags': 3, 'coordinate': (9.788, 7.684), 'is_tagged': 1, 'final_tags': 3}), (277, {'is_core': 0, 'tags': 3, 'coordinate': (9.586, 7.91), 'is_tagged': 1, 'final_tags': 3}), (278, {'is_core': 0, 'tags': 3, 'coordinate': (9.694, 7.448), 'is_tagged': 1, 'final_tags': 3}), (279, {'is_core': 0, 'tags': 3, 'coordinate': (9.576, 7.866), 'is_tagged': 1, 'final_tags': 3}), (282, {'is_core': 0, 'tags': -1, 'coordinate': (10.674, 8.936), 'is_tagged': 1, 'final_tags': -1}), (305, {'is_core': 0, 'tags': -1, 'coordinate': (10.78, 8.294), 'is_tagged': 1, 'final_tags': -1}), (315, {'is_core': 0, 'tags': -1, 'coordinate': (10.718, 8.534), 'is_tagged': 1, 'final_tags': -1}), (316, {'is_core': 0, 'tags': -1, 'coordinate': (10.444, 8.684), 'is_tagged': 1, 'final_tags': -1}), (480, {'is_core': 0, 'tags': 4, 'coordinate': (3.9, 6.742), 'is_tagged': 1, 'final_tags': 4}), (481, {'is_core': 0, 'tags': 4, 'coordinate': (3.994, 7.206), 'is_tagged': 1, 'final_tags': 4}), (482, {'is_core': 0, 'tags': 4, 'coordinate': (4.278, 7.222), 'is_tagged': 1, 'final_tags': 4}), (483, {'is_core': 0, 'tags': 4, 'coordinate': (4.172, 6.848), 'is_tagged': 1, 'final_tags': 4}), (484, {'is_core': 0, 'tags': 4, 'coordinate': (3.882, 6.894), 'is_tagged': 1, 'final_tags': 4}), (485, {'is_core': 0, 'tags': 4, 'coordinate': (3.936, 6.994), 'is_tagged': 1, 'final_tags': 4}), (486, {'is_core': 0, 'tags': 4, 'coordinate': (4.162, 6.87), 'is_tagged': 1, 'final_tags': 4}), (487, {'is_core': 0, 'tags': 4, 'coordinate': (3.762, 7.1), 'is_tagged': 1, 'final_tags': 4}), (488, {'is_core': 0, 'tags': 4, 'coordinate': (4.256, 7.612), 'is_tagged': 1, 'final_tags': 4}), (489, {'is_core': 0, 'tags': 4, 'coordinate': (4.55, 6.822), 'is_tagged': 1, 'final_tags': 4}), (490, {'is_core': 0, 'tags': 4, 'coordinate': (4.062, 6.984), 'is_tagged': 1, 'final_tags': 4}), (491, {'is_core': 0, 'tags': 4, 'coordinate': (4.026, 7.23), 'is_tagged': 1, 'final_tags': 4}), (492, {'is_core': 0, 'tags': 4, 'coordinate': (4.364, 7.184), 'is_tagged': 1, 'final_tags': 4}), (493, {'is_core': 0, 'tags': 4, 'coordinate': (4.292, 7.208), 'is_tagged': 1, 'final_tags': 4}), (494, {'is_core': 0, 'tags': 4, 'coordinate': (4.288, 6.91), 'is_tagged': 1, 'final_tags': 4}), (495, {'is_core': 0, 'tags': 4, 'coordinate': (4.018, 7.062), 'is_tagged': 1, 'final_tags': 4}), (496, {'is_core': 0, 'tags': 4, 'coordinate': (4.07, 7.104), 'is_tagged': 1, 'final_tags': 4}), (497, {'is_core': 1, 'tags': 4, 'coordinate': (4.548, 7.654), 'is_tagged': 1, 'final_tags': 4}), (498, {'is_core': 0, 'tags': 4, 'coordinate': (4.402, 7.082), 'is_tagged': 1, 'final_tags': 4}), (499, {'is_core': 1, 'tags': 4, 'coordinate': (3.692, 7.49), 'is_tagged': 1, 'final_tags': 4}), (500, {'is_core': 1, 'tags': 4, 'coordinate': (4.888, 7.194), 'is_tagged': 1, 'final_tags': 4}), (501, {'is_core': 0, 'tags': 4, 'coordinate': (4.456, 7.146), 'is_tagged': 1, 'final_tags': 4}), (502, {'is_core': 0, 'tags': 4, 'coordinate': (4.732, 7.154), 'is_tagged': 1, 'final_tags': 4}), (503, {'is_core': 0, 'tags': 4, 'coordinate': (4.088, 7.212), 'is_tagged': 1, 'final_tags': 4}), (504, {'is_core': 0, 'tags': 4, 'coordinate': (4.502, 6.928), 'is_tagged': 1, 'final_tags': 4}), (505, {'is_core': 1, 'tags': 4, 'coordinate': (3.402, 7.434), 'is_tagged': 1, 'final_tags': 4}), (506, {'is_core': 0, 'tags': 4, 'coordinate': (4.246, 6.692), 'is_tagged': 1, 'final_tags': 4}), (507, {'is_core': 0, 'tags': 4, 'coordinate': (4.166, 7.256), 'is_tagged': 1, 'final_tags': 4}), (508, {'is_core': 1, 'tags': 4, 'coordinate': (4.852, 6.83), 'is_tagged': 1, 'final_tags': 4}), (509, {'is_core': 0, 'tags': 4, 'coordinate': (4.398, 7.428), 'is_tagged': 1, 'final_tags': 4}), (510, {'is_core': 1, 'tags': 4, 'coordinate': (5.016, 7.054), 'is_tagged': 1, 'final_tags': 4}), (511, {'is_core': 0, 'tags': 4, 'coordinate': (4.25, 6.76), 'is_tagged': 1, 'final_tags': 4}), (512, {'is_core': 0, 'tags': 4, 'coordinate': (3.738, 7.082), 'is_tagged': 1, 'final_tags': 4}), (513, {'is_core': 0, 'tags': 4, 'coordinate': (4.254, 7.264), 'is_tagged': 1, 'final_tags': 4}), (514, {'is_core': 0, 'tags': 4, 'coordinate': (4.122, 7.238), 'is_tagged': 1, 'final_tags': 4}), (515, {'is_core': 0, 'tags': 4, 'coordinate': (3.878, 7.232), 'is_tagged': 1, 'final_tags': 4}), (516, {'is_core': 0, 'tags': 4, 'coordinate': (4.55, 7.29), 'is_tagged': 1, 'final_tags': 4}), (517, {'is_core': 0, 'tags': 4, 'coordinate': (4.03, 7.126), 'is_tagged': 1, 'final_tags': 4}), (518, {'is_core': 0, 'tags': 4, 'coordinate': (4.412, 7.022), 'is_tagged': 1, 'final_tags': 4}), (519, {'is_core': 0, 'tags': 4, 'coordinate': (4.276, 7.244), 'is_tagged': 1, 'final_tags': 4}), (520, {'is_core': 0, 'tags': 5, 'coordinate': (8.376, 3.788), 'is_tagged': 1, 'final_tags': 5}), (521, {'is_core': 0, 'tags': 5, 'coordinate': (8.81, 3.864), 'is_tagged': 1, 'final_tags': 5}), (522, {'is_core': 0, 'tags': 5, 'coordinate': (8.218, 3.548), 'is_tagged': 1, 'final_tags': 5}), (523, {'is_core': 0, 'tags': 5, 'coordinate': (8.374, 3.748), 'is_tagged': 1, 'final_tags': 5}), (524, {'is_core': 1, 'tags': 5, 'coordinate': (8.102, 4.3), 'is_tagged': 1, 'final_tags': 5}), (525, {'is_core': 0, 'tags': 5, 'coordinate': (8.386, 3.952), 'is_tagged': 1, 'final_tags': 5}), (526, {'is_core': 0, 'tags': 5, 'coordinate': (8.858, 3.274), 'is_tagged': 1, 'final_tags': 5}), (527, {'is_core': 0, 'tags': 5, 'coordinate': (8.884, 3.504), 'is_tagged': 1, 'final_tags': 5}), (528, {'is_core': 0, 'tags': 5, 'coordinate': (8.294, 3.38), 'is_tagged': 1, 'final_tags': 5}), (529, {'is_core': 1, 'tags': 5, 'coordinate': (8.38, 3.178), 'is_tagged': 1, 'final_tags': 5}), (530, {'is_core': 0, 'tags': 5, 'coordinate': (8.738, 4.294), 'is_tagged': 1, 'final_tags': 5}), (531, {'is_core': 0, 'tags': 5, 'coordinate': (9.1, 3.84), 'is_tagged': 1, 'final_tags': 5}), (532, {'is_core': 0, 'tags': 5, 'coordinate': (9.086, 3.6), 'is_tagged': 1, 'final_tags': 5}), (533, {'is_core': 0, 'tags': 5, 'coordinate': (8.616, 3.45), 'is_tagged': 1, 'final_tags': 5}), (534, {'is_core': 0, 'tags': 5, 'coordinate': (8.624, 3.698), 'is_tagged': 1, 'final_tags': 5}), (535, {'is_core': 0, 'tags': 5, 'coordinate': (8.632, 3.82), 'is_tagged': 1, 'final_tags': 5}), (536, {'is_core': 0, 'tags': 5, 'coordinate': (8.286, 3.704), 'is_tagged': 1, 'final_tags': 5}), (537, {'is_core': 0, 'tags': 5, 'coordinate': (8.816, 3.58), 'is_tagged': 1, 'final_tags': 5}), (538, {'is_core': 0, 'tags': 5, 'coordinate': (8.722, 3.854), 'is_tagged': 1, 'final_tags': 5}), (539, {'is_core': 0, 'tags': 5, 'coordinate': (8.298, 3.378), 'is_tagged': 1, 'final_tags': 5}), (540, {'is_core': 0, 'tags': 5, 'coordinate': (9.014, 4.034), 'is_tagged': 1, 'final_tags': 5}), (541, {'is_core': 0, 'tags': 5, 'coordinate': (8.87, 3.554), 'is_tagged': 1, 'final_tags': 5}), (542, {'is_core': 0, 'tags': 5, 'coordinate': (8.562, 3.662), 'is_tagged': 1, 'final_tags': 5}), (543, {'is_core': 0, 'tags': 5, 'coordinate': (8.6, 3.828), 'is_tagged': 1, 'final_tags': 5}), (544, {'is_core': 0, 'tags': 5, 'coordinate': (8.94, 3.836), 'is_tagged': 1, 'final_tags': 5}), (545, {'is_core': 0, 'tags': 5, 'coordinate': (8.768, 4.32), 'is_tagged': 1, 'final_tags': 5}), (546, {'is_core': 0, 'tags': 5, 'coordinate': (8.838, 3.926), 'is_tagged': 1, 'final_tags': 5}), (547, {'is_core': 0, 'tags': 5, 'coordinate': (8.288, 3.466), 'is_tagged': 1, 'final_tags': 5}), (548, {'is_core': 0, 'tags': 5, 'coordinate': (8.652, 3.782), 'is_tagged': 1, 'final_tags': 5}), (549, {'is_core': 0, 'tags': 5, 'coordinate': (8.376, 3.956), 'is_tagged': 1, 'final_tags': 5}), (550, {'is_core': 1, 'tags': 5, 'coordinate': (7.724, 3.414), 'is_tagged': 1, 'final_tags': 5}), (551, {'is_core': 0, 'tags': 5, 'coordinate': (8.374, 4.136), 'is_tagged': 1, 'final_tags': 5}), (552, {'is_core': 0, 'tags': 5, 'coordinate': (8.6, 3.712), 'is_tagged': 1, 'final_tags': 5}), (553, {'is_core': 0, 'tags': 5, 'coordinate': (9.026, 3.788), 'is_tagged': 1, 'final_tags': 5}), (554, {'is_core': 0, 'tags': 5, 'coordinate': (8.534, 3.252), 'is_tagged': 1, 'final_tags': 5}), (555, {'is_core': 0, 'tags': 5, 'coordinate': (8.874, 3.602), 'is_tagged': 1, 'final_tags': 5}), (556, {'is_core': 0, 'tags': 5, 'coordinate': (8.796, 3.888), 'is_tagged': 1, 'final_tags': 5}), (557, {'is_core': 0, 'tags': 5, 'coordinate': (8.592, 3.988), 'is_tagged': 1, 'final_tags': 5}), (558, {'is_core': 0, 'tags': 5, 'coordinate': (8.98, 4.014), 'is_tagged': 1, 'final_tags': 5}), (559, {'is_core': 0, 'tags': 5, 'coordinate': (8.562, 3.856), 'is_tagged': 1, 'final_tags': 5})])\n",
            "dict_items([])\n",
            "dict_items([])\n",
            "dict_items([])\n",
            "4\n"
          ]
        }
      ]
    }
  ]
}