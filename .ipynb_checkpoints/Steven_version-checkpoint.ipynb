{
 "cells": [
  {
   "cell_type": "markdown",
   "id": "3272e97b",
   "metadata": {},
   "source": [
    "### Setup Spark environment"
   ]
  },
  {
   "cell_type": "markdown",
   "id": "76981f63",
   "metadata": {},
   "source": [
    "If you directly start with pySpark, you can skip this setup."
   ]
  },
  {
   "cell_type": "code",
   "execution_count": 1,
   "id": "a95271c3",
   "metadata": {},
   "outputs": [
    {
     "name": "stderr",
     "output_type": "stream",
     "text": [
      "C:\\Spark\\spark-3.2.0-bin-hadoop2.7\\python\\pyspark\\context.py:238: FutureWarning: Python 3.6 support is deprecated in Spark 3.2.\n",
      "  FutureWarning\n"
     ]
    }
   ],
   "source": [
    "import findspark\n",
    "findspark.init()\n",
    "\n",
    "import pyspark\n",
    "from pyspark import SparkContext, SparkConf\n",
    "sc = SparkContext()"
   ]
  },
  {
   "cell_type": "markdown",
   "id": "4eace725",
   "metadata": {},
   "source": [
    "### Partitioning"
   ]
  },
  {
   "cell_type": "code",
   "execution_count": 24,
   "id": "446948dc",
   "metadata": {
    "scrolled": true
   },
   "outputs": [
    {
     "name": "stdout",
     "output_type": "stream",
     "text": [
      "\n",
      "==================Partition Result==================\n",
      "Size of each partition: [290, 1037, 948, 725]\n",
      "Border [(0, 32064, 32768, 48521), (0, 48521, 32768, 64978.01), (32768, 32064, 65535.01, 48521), (32768, 48521, 65535.01, 64978.01)]\n",
      "\n",
      "After expand bounding box\n",
      "Size of each partition: [325, 1089, 1054, 846]\n",
      "Border [(-1000, 31064, 33768, 49521), (-1000, 47521, 33768, 65978.01), (31768, 31064, 66535.01, 49521), (31768, 47521, 66535.01, 65978.01)]\n",
      "\n",
      "Time: 7.048453092575073\n"
     ]
    }
   ],
   "source": [
    "import datetime\n",
    "\n",
    "class Partition(object):\n",
    "    def __init__(self, data, partition_num, eps, method):\n",
    "\n",
    "        self.partition_num = partition_num\n",
    "        self.eps = eps\n",
    "        self.ROUND_DIGIT = 6\n",
    "\n",
    "        if method not in ('spatial split'):\n",
    "            print('Error: Unknown method', method)\n",
    "            exit(-1)\n",
    "\n",
    "        self.method = method\n",
    "\n",
    "    def create_partitions_with_spark(self, data, border_coordinates):\n",
    "        allow_overlapping_boxes = True\n",
    "\n",
    "        partition_num = len(border_coordinates)\n",
    "        rdd = data\n",
    "\n",
    "        def label_partition(element):\n",
    "            new_elements = []\n",
    "            for k in range(partition_num):\n",
    "                    box = border_coordinates[k]\n",
    "                    x = element[0]\n",
    "                    y = element[1]\n",
    "                    if x < box[2] and x >= box[0] and y < box[3] and y >= box[1]:\n",
    "                            new_elements.append((element, k))\n",
    "                            if not allow_overlapping_boxes:\n",
    "                                break\n",
    "\n",
    "            return new_elements\n",
    "        \n",
    "        # for each point, if it is inside the boxes, append to the element list, and return the list of ((x,y), p_id)\n",
    "        # flatten the lists and then map() again: for each point, convert the format to set partition ID as key\n",
    "        # then partition by the boxes using the key \n",
    "        # after partitioned, the key is no longer useful, so we removed p_id using map() again \n",
    "        partitioned_rdd = rdd.map(label_partition).flatMap(lambda x: x).map(lambda x: (\n",
    "                str(x[1]), x[0])).partitionBy(partition_num, lambda k: int(k[0])).map(lambda x: x[1])\n",
    "\n",
    "        return partitioned_rdd\n",
    "\n",
    "    def split(self, data):\n",
    "\n",
    "        if data.count() <= 0:\n",
    "            # nothing to do\n",
    "            return data, []\n",
    "\n",
    "        if self.method == 'spatial split':\n",
    "            # get the factor list of the partition num to separate the space for x and y more evenly\n",
    "            factors = []\n",
    "            for factor in range(1, self.partition_num+1):\n",
    "                if self.partition_num % factor == 0:\n",
    "                    # if divisible, it is a factor\n",
    "                    # if the factor^2 = partition_num, we should append twice\n",
    "                    if factor * factor == self.partition_num:\n",
    "                        factors.append(factor)\n",
    "                    factors.append(factor)\n",
    "\n",
    "            # default 1 x partition_num\n",
    "            x_partition_num = factors[len(factors) // 2-1]\n",
    "            y_partition_num = factors[len(factors) // 2]\n",
    "\n",
    "            # error checking\n",
    "            if x_partition_num * y_partition_num != self.partition_num:\n",
    "                print('Error: Incorrect x y partition',\n",
    "                            x_partition_num, y_partition_num)\n",
    "                exit(-1)\n",
    "\n",
    "            # store the partitioned x y left-down coordinates to set up the border\n",
    "            x_coordinates = []\n",
    "            y_coordinates = []\n",
    "\n",
    "            # find the range\n",
    "            minX = data.min()[0]\n",
    "            maxX = data.max()[0]\n",
    "            minY = data.min(lambda x: x[1])[1]\n",
    "            maxY = data.max(lambda x: x[1])[1]\n",
    "\n",
    "            # split the x range by x_partition_num and that of y\n",
    "            for i in range(x_partition_num):\n",
    "                interval = round((maxX - minX) / x_partition_num)\n",
    "                x_coordinates.append(minX + i * interval)\n",
    "\n",
    "            for i in range(y_partition_num):\n",
    "                interval = round((maxY - minY) / y_partition_num)\n",
    "                y_coordinates.append(minY + i * interval)\n",
    "\n",
    "            # Partition ID\n",
    "            #  2 5 8 ...\n",
    "            #  1 4 7 ...\n",
    "            #  0 3 6 ...\n",
    "\n",
    "            # output the border coordinates\n",
    "            border_coordinates = []\n",
    "            for i in range(len(x_coordinates)):\n",
    "                for j in range(len(y_coordinates)):\n",
    "                    # next x y is the next item in coordinate list\n",
    "                    # if already the last item, the next item will be the right data boundary (maxX or maxY)\n",
    "                    # +0.01 here is to make sure no data touch the top/right boundary for easy partition logic\n",
    "                    next_x = round(\n",
    "                            maxX+0.01, self.ROUND_DIGIT) if i == len(x_coordinates)-1 else x_coordinates[i+1]\n",
    "                    next_y = round(\n",
    "                            maxY+0.01, self.ROUND_DIGIT) if j == len(y_coordinates)-1 else y_coordinates[j+1]\n",
    "                    border_coordinates.append(\n",
    "                            (x_coordinates[i], y_coordinates[j], next_x, next_y))\n",
    "\n",
    "            partitioned_data = self.create_partitions_with_spark(\n",
    "                    data, border_coordinates)\n",
    "\n",
    "        # border_coordinates\n",
    "        # [(0.8, 0.8, 100.0, 50.8), (0.8, 50.8, 100.0, 100.0)]\n",
    "\n",
    "        return partitioned_data, border_coordinates\n",
    "\n",
    "    def expand(self, data, border_coordinates):\n",
    "        # expand each partition by eps\n",
    "        new_border_coordinates = []\n",
    "        for i in range(len(border_coordinates)):\n",
    "            new_border_coordinate = []\n",
    "            border_coordinate = list(border_coordinates[i])\n",
    "\n",
    "            new_border_coordinate.append(\n",
    "                    round(border_coordinate[0] - self.eps, self.ROUND_DIGIT))\n",
    "            new_border_coordinate.append(\n",
    "                    round(border_coordinate[1] - self.eps, self.ROUND_DIGIT))\n",
    "            new_border_coordinate.append(\n",
    "                    round(border_coordinate[2] + self.eps, self.ROUND_DIGIT))\n",
    "            new_border_coordinate.append(\n",
    "                    round(border_coordinate[3] + self.eps, self.ROUND_DIGIT))\n",
    "            new_border_coordinates.append(tuple(new_border_coordinate))\n",
    "\n",
    "            partitioned_data = self.create_partitions_with_spark(\n",
    "                    data, new_border_coordinates)\n",
    "        return partitioned_data, new_border_coordinates\n",
    "\n",
    "\n",
    "# Do the partition\n",
    "\n",
    "lines = sc.textFile('./3000.txt')\n",
    "x = lines.map(lambda x: x.split()).map(lambda x: (int(x[0]), int(x[1])))\n",
    "\n",
    "PARTITION = 4\n",
    "EPS = 1000\n",
    "start_time = datetime.datetime.now().timestamp()\n",
    "\n",
    "par_obj = Partition(x, PARTITION, EPS, 'spatial split')\n",
    "old_result, old_borders = par_obj.split(x)\n",
    "result, borders = par_obj.expand(x, old_borders)\n",
    "\n",
    "# execute action so as to trigger the calculation \n",
    "result.take(1)\n",
    "\n",
    "end_time = datetime.datetime.now().timestamp()\n",
    "\n",
    "print()\n",
    "print('==================Partition Result==================')\n",
    "# Find the number of elements in each parttion\n",
    "\n",
    "def partitionsize(it):\n",
    "    yield len(list(it))\n",
    "\n",
    "# sum to 3000\n",
    "print('Size of each partition:', old_result.mapPartitions(partitionsize).collect())\n",
    "print('Border', old_borders)\n",
    "print()\n",
    "\n",
    "print('After expand bounding box')\n",
    "print('Size of each partition:', result.mapPartitions(partitionsize).collect())\n",
    "print('Border', borders)\n",
    "print()\n",
    "print('Time:', end_time - start_time)"
   ]
  },
  {
   "cell_type": "code",
   "execution_count": 25,
   "id": "97677bd1",
   "metadata": {},
   "outputs": [
    {
     "data": {
      "image/png": "[encoded data removed]",
      "text/plain": [
       "<Figure size 576x576 with 1 Axes>"
      ]
     },
     "metadata": {
      "needs_background": "light"
     },
     "output_type": "display_data"
    }
   ],
   "source": [
    "li = list(result.glom().collect())\n",
    "target_borders = borders\n",
    "\n",
    "colors = [\"r\", \"b\", \"g\",\"cyan\", \"y\", \"c\", \"m\", \"pink\",\"yellow\", \"brown\"]\n",
    "\n",
    "plt.figure(figsize=(8, 8))\n",
    "for i in range(len(li)):\n",
    "    plt.scatter(*zip(*(li[i])), 1, color = colors[i])\n",
    "    \n",
    "for i in range(len(target_borders)):\n",
    "    plt.plot([target_borders[i][0],target_borders[i][2]],[target_borders[i][1], target_borders[i][1]], 'k--', color = colors[i])\n",
    "    plt.plot([target_borders[i][2],target_borders[i][2]],[target_borders[i][1], target_borders[i][3]], 'k--', color = colors[i])    \n",
    "    plt.plot([target_borders[i][0],target_borders[i][2]],[target_borders[i][3], target_borders[i][3]], 'k--', color = colors[i])    \n",
    "    plt.plot([target_borders[i][0],target_borders[i][0]],[target_borders[i][1], target_borders[i][3]], 'k--', color = colors[i])\n",
    "    \n",
    "plt.title('Data Visualization')\n",
    "\n",
    "plt.xlabel('X-Axis')\n",
    "plt.ylabel('Y-Axis')\n",
    "plt.show()"
   ]
  },
  {
   "cell_type": "markdown",
   "id": "89bf379a",
   "metadata": {},
   "source": [
    "### Pass Partition data to DBSCAN "
   ]
  },
  {
   "cell_type": "code",
   "execution_count": 524,
   "id": "324d6787",
   "metadata": {
    "scrolled": false
   },
   "outputs": [
    {
     "name": "stdout",
     "output_type": "stream",
     "text": [
      "Time: 0.6400010585784912\n"
     ]
    }
   ],
   "source": [
    "import math\n",
    "def distFunc(a,b):\n",
    "    return math.sqrt((b[0] - a[0])**2 + (b[1] - a[1])**2)\n",
    "\n",
    "def getNeighbours(labelled_map, distFunc, p, EPS):\n",
    "    neighbours = []\n",
    "    for q in labelled_map: \n",
    "        if distFunc(p,q) <= EPS:\n",
    "            neighbours.append(q)\n",
    "    return neighbours \n",
    "\n",
    "def dbscan(index, partition_list):\n",
    "    C = 0\n",
    "    labelled_map = {}\n",
    "    labelled_list = []\n",
    "    for p in partition_list:\n",
    "        labelled_map[p] = 0\n",
    "    \n",
    "    for p in labelled_map:\n",
    "        if labelled_map[p] != 0:\n",
    "            continue \n",
    "\n",
    "        N = getNeighbours(labelled_map, distFunc, p, EPS)\n",
    "        # N is a list containing the neighbour points ((x,y),label)\n",
    "        if len(N) < minPts:\n",
    "            labelled_map[p] = 'Noise'\n",
    "            continue\n",
    "        C += 1\n",
    "        labelled_map[p] = C\n",
    "        \n",
    "        for q in N:\n",
    "            if labelled_map[q] == 'Noise':\n",
    "                labelled_map[q] = C\n",
    "            if labelled_map[q] != 0:\n",
    "                continue\n",
    "            labelled_map[q] = C\n",
    "            N_1 = getNeighbours(labelled_map, distFunc, q, EPS)\n",
    "            if len(N_1) >= minPts:\n",
    "                for pt in N_1:\n",
    "                    if pt not in N:\n",
    "                        N.append(pt)\n",
    "                        \n",
    "    for p in labelled_map:\n",
    "        if labelled_map[p] == 'Noise':\n",
    "            labelled_list.append((p, labelled_map[p]))\n",
    "        else:\n",
    "            labelled_list.append((p, str(index)+'_'+str(labelled_map[p])))\n",
    "    return (labelled_list)\n",
    "\n",
    "# minPt will always be 2 in partitioned DBSCAN\n",
    "minPts = 2\n",
    "\n",
    "# print('Size of Partitions Before DBSCAN:', result.mapPartitions(partitionsize).collect())\n",
    "\n",
    "start_time = datetime.datetime.now().timestamp()\n",
    "\n",
    "# do DBSCAN for each partition \n",
    "labelled_RDD = result.mapPartitionsWithIndex(dbscan)\n",
    "\n",
    "labelled_RDD.take(1)\n",
    "end_time = datetime.datetime.now().timestamp()\n",
    "\n",
    "# print('Size of Partitions After DBSCAN:', labelled_RDD.mapPartitions(partitionsize).collect())\n",
    "\n",
    "print('Time:', end_time - start_time)\n",
    "\n",
    "labelled_list = labelled_RDD.collect()"
   ]
  },
  {
   "cell_type": "markdown",
   "id": "0c064e31",
   "metadata": {},
   "source": [
    "### Merge"
   ]
  },
  {
   "cell_type": "code",
   "execution_count": 525,
   "id": "ffbd9b1d",
   "metadata": {},
   "outputs": [],
   "source": [
    "from pyspark.accumulators import AccumulatorParam\n",
    "\n",
    "# Define the class for dictionary accumulator \n",
    "class DictParam(AccumulatorParam):\n",
    "    def zero(self,  value = \"\"):\n",
    "        return dict()\n",
    "\n",
    "    def addInPlace(self, value1, value2):\n",
    "        value1.update(value2)\n",
    "        return value1\n",
    "    \n",
    "# Map the duplicated points' Cluster ID to smallest ID \n",
    "cid_dict_accum = sc.accumulator({}, DictParam())\n",
    "\n",
    "def cid_mapping(li):\n",
    "    global cid_dict_accum\n",
    "    \n",
    "    common_pts = []\n",
    "    # for each item, if it is Noise, skip it \n",
    "    # push the item to the common_pts[] in terms of (p_id, cluster_number)\n",
    "    for i in li:\n",
    "        if i == 'Noise':\n",
    "            continue\n",
    "        common_pts.append(i)\n",
    "        \n",
    "    # if more than one item in this list, I should return the smallest (assign the smallest C_id to the pt)\n",
    "    # I should also push the relationship to the dict, such that later if we have a pt with that C_id, it will map to the smallest C_id\n",
    "    if len(common_pts) > 1:\n",
    "        smallest = min([tuple([int(k) for k in i.split('_')]) for i in common_pts])\n",
    "        # smallest format: (1,2)\n",
    "        smallest = str(smallest[0]) + '_' + str(smallest[1])\n",
    "        # smallest format: '1_2'\n",
    "        for c_id in common_pts:\n",
    "            cid_dict_accum += {c_id: smallest}\n",
    "    elif len(common_pts) == 1:\n",
    "        smallest = common_pts[0]\n",
    "    else:\n",
    "        smallest = 'Noise'\n",
    "    return smallest\n",
    "\n",
    "# group by the points, format ((x,y), [c_ids])\n",
    "# then map the c_ids, return the smallest c_id \n",
    "# also computer the dict accumulator\n",
    "labelled_RDD = labelled_RDD.groupByKey().mapValues(cid_mapping)\n",
    "labelled_RDD.count()\n",
    "\n",
    "# reassign the id using the dictionary \n",
    "# if the id is found in the dictionary, map to the new id\n",
    "# else, stay with the old id\n",
    "dict_map = cid_dict_accum.value\n",
    "def reassign_id(element):\n",
    "    if element[1] in dict_map:\n",
    "        return (element[0],dict_map[element[1]])\n",
    "    else:\n",
    "        return element\n",
    "    \n",
    "labelled_RDD = labelled_RDD.map(reassign_id)"
   ]
  },
  {
   "cell_type": "code",
   "execution_count": 526,
   "id": "246e2eeb",
   "metadata": {},
   "outputs": [],
   "source": [
    "# minPts config\n",
    "merged_minPts = 10\n",
    "\n",
    "# if the cluster size is smaller than minPts, it is noise \n",
    "def idenify_noise(element):\n",
    "    li = element[1]\n",
    "    output_list = []\n",
    "    \n",
    "    if len(li) < merged_minPts:\n",
    "        for pt in li: \n",
    "            output_list.append((pt[0], 'Noise'))\n",
    "    else:\n",
    "        for pt in li:\n",
    "            output_list.append((pt[0], element[0]))\n",
    "    \n",
    "    return output_list\n",
    "            \n",
    "# group by cluster id, idenify if each cluster is noise or not \n",
    "# flatten the list \n",
    "labelled_noise_RDD = labelled_RDD.groupBy(lambda x: x[1]).map(idenify_noise).flatMap(lambda x:x)"
   ]
  },
  {
   "cell_type": "code",
   "execution_count": 527,
   "id": "032aa69b",
   "metadata": {},
   "outputs": [],
   "source": [
    "# get the cluster histogram [(c_id, count_of_pts),...] \n",
    "cluster_histogram = labelled_noise_RDD.map(lambda x: (x[1],1)).reduceByKey(lambda x,y: x+y)\n",
    "\n",
    "number_of_cluster = cluster_histogram.count()\n",
    "cluster_histogram_list = cluster_histogram.collect()\n",
    "\n",
    "# init a dict to map the old c_id with the new ordered c_id [0,..., number_of_cluster -1]\n",
    "cluster_dict = {'Noise': 'Noise'}\n",
    "counter = 0\n",
    "while counter < number_of_cluster:\n",
    "    if cluster_histogram_list[counter][0] != 'Noise':\n",
    "        cluster_dict[cluster_histogram_list[counter][0]] = counter\n",
    "    counter +=1"
   ]
  },
  {
   "cell_type": "code",
   "execution_count": 534,
   "id": "a27dc51b",
   "metadata": {},
   "outputs": [],
   "source": [
    "# for each pt, if its c_id is found in the dictionary (it must be, can use the else case for debugging), \n",
    "# assign the new c_id to the point \n",
    "def reassign_ordered_id(element):\n",
    "    if element[1] in cluster_dict:\n",
    "        return (element[0],cluster_dict[element[1]])\n",
    "    else:\n",
    "        return element\n",
    "    \n",
    "ordered_RDD = labelled_noise_RDD.map(reassign_ordered_id)"
   ]
  },
  {
   "cell_type": "code",
   "execution_count": null,
   "id": "3032cad1",
   "metadata": {},
   "outputs": [],
   "source": []
  },
  {
   "cell_type": "markdown",
   "id": "4d124e2b",
   "metadata": {},
   "source": [
    "### Result Plotting"
   ]
  },
  {
   "cell_type": "code",
   "execution_count": 5,
   "id": "09c8ad70",
   "metadata": {},
   "outputs": [],
   "source": [
    "import matplotlib.pyplot as plt\n",
    "import seaborn as sns"
   ]
  },
  {
   "cell_type": "code",
   "execution_count": 7,
   "id": "169e228e",
   "metadata": {
    "scrolled": false
   },
   "outputs": [
    {
     "ename": "NameError",
     "evalue": "name 'ordered_RDD' is not defined",
     "output_type": "error",
     "traceback": [
      "\u001b[1;31m---------------------------------------------------------------------------\u001b[0m",
      "\u001b[1;31mNameError\u001b[0m                                 Traceback (most recent call last)",
      "\u001b[1;32m<ipython-input-7-e0e314c12317>\u001b[0m in \u001b[0;36m<module>\u001b[1;34m\u001b[0m\n\u001b[1;32m----> 1\u001b[1;33m \u001b[0mlabelled_list\u001b[0m \u001b[1;33m=\u001b[0m \u001b[0mordered_RDD\u001b[0m\u001b[1;33m.\u001b[0m\u001b[0mcollect\u001b[0m\u001b[1;33m(\u001b[0m\u001b[1;33m)\u001b[0m\u001b[1;33m\u001b[0m\u001b[0m\n\u001b[0m\u001b[0;32m      2\u001b[0m \u001b[1;33m\u001b[0m\u001b[0m\n\u001b[0;32m      3\u001b[0m \u001b[0mx\u001b[0m \u001b[1;33m=\u001b[0m \u001b[1;33m[\u001b[0m\u001b[1;33m]\u001b[0m\u001b[1;33m\u001b[0m\u001b[0m\n\u001b[0;32m      4\u001b[0m \u001b[0my\u001b[0m \u001b[1;33m=\u001b[0m \u001b[1;33m[\u001b[0m\u001b[1;33m]\u001b[0m\u001b[1;33m\u001b[0m\u001b[0m\n\u001b[0;32m      5\u001b[0m \u001b[0mc\u001b[0m \u001b[1;33m=\u001b[0m \u001b[1;33m[\u001b[0m\u001b[1;33m]\u001b[0m\u001b[1;33m\u001b[0m\u001b[0m\n",
      "\u001b[1;31mNameError\u001b[0m: name 'ordered_RDD' is not defined"
     ]
    }
   ],
   "source": [
    "labelled_list = ordered_RDD.collect()\n",
    "\n",
    "x = []\n",
    "y = []\n",
    "c = []\n",
    "# plt.figure(figsize=(8, 8))\n",
    "for i in labelled_list:\n",
    "    x.append(i[0][0])\n",
    "    y.append(i[0][1])\n",
    "    c.append(i[1])\n",
    "# plt.scatter(x,y, 1)\n",
    "plt.figure(figsize=(8, 8))\n",
    "sns.scatterplot(x,y, s=3, hue=c, palette='Paired')\n",
    "plt.legend(bbox_to_anchor=(1.05, 1), loc='upper left', borderaxespad=0)"
   ]
  },
  {
   "cell_type": "code",
   "execution_count": 6,
   "id": "1dffd521",
   "metadata": {},
   "outputs": [
    {
     "ename": "NameError",
     "evalue": "name 'y' is not defined",
     "output_type": "error",
     "traceback": [
      "\u001b[1;31m---------------------------------------------------------------------------\u001b[0m",
      "\u001b[1;31mNameError\u001b[0m                                 Traceback (most recent call last)",
      "\u001b[1;32m<ipython-input-6-393dcbe76625>\u001b[0m in \u001b[0;36m<module>\u001b[1;34m\u001b[0m\n\u001b[0;32m      1\u001b[0m \u001b[0mplt\u001b[0m\u001b[1;33m.\u001b[0m\u001b[0mfigure\u001b[0m\u001b[1;33m(\u001b[0m\u001b[0mfigsize\u001b[0m\u001b[1;33m=\u001b[0m\u001b[1;33m(\u001b[0m\u001b[1;36m8\u001b[0m\u001b[1;33m,\u001b[0m \u001b[1;36m8\u001b[0m\u001b[1;33m)\u001b[0m\u001b[1;33m)\u001b[0m\u001b[1;33m\u001b[0m\u001b[0m\n\u001b[0;32m      2\u001b[0m \u001b[1;33m\u001b[0m\u001b[0m\n\u001b[1;32m----> 3\u001b[1;33m \u001b[0msns\u001b[0m\u001b[1;33m.\u001b[0m\u001b[0mscatterplot\u001b[0m\u001b[1;33m(\u001b[0m\u001b[0mx\u001b[0m\u001b[1;33m,\u001b[0m\u001b[0my\u001b[0m\u001b[1;33m,\u001b[0m \u001b[0ms\u001b[0m\u001b[1;33m=\u001b[0m\u001b[1;36m3\u001b[0m\u001b[1;33m,\u001b[0m \u001b[0mhue\u001b[0m\u001b[1;33m=\u001b[0m\u001b[0mc\u001b[0m\u001b[1;33m,\u001b[0m \u001b[0mpalette\u001b[0m\u001b[1;33m=\u001b[0m\u001b[1;34m'Paired'\u001b[0m\u001b[1;33m)\u001b[0m\u001b[1;33m\u001b[0m\u001b[0m\n\u001b[0m\u001b[0;32m      4\u001b[0m \u001b[0mplt\u001b[0m\u001b[1;33m.\u001b[0m\u001b[0mlegend\u001b[0m\u001b[1;33m(\u001b[0m\u001b[0mbbox_to_anchor\u001b[0m\u001b[1;33m=\u001b[0m\u001b[1;33m(\u001b[0m\u001b[1;36m1.05\u001b[0m\u001b[1;33m,\u001b[0m \u001b[1;36m1\u001b[0m\u001b[1;33m)\u001b[0m\u001b[1;33m,\u001b[0m \u001b[0mloc\u001b[0m\u001b[1;33m=\u001b[0m\u001b[1;34m'upper left'\u001b[0m\u001b[1;33m,\u001b[0m \u001b[0mborderaxespad\u001b[0m\u001b[1;33m=\u001b[0m\u001b[1;36m0\u001b[0m\u001b[1;33m)\u001b[0m\u001b[1;33m\u001b[0m\u001b[0m\n\u001b[0;32m      5\u001b[0m \u001b[0mcolors\u001b[0m \u001b[1;33m=\u001b[0m \u001b[1;33m[\u001b[0m\u001b[1;34m\"r\"\u001b[0m\u001b[1;33m,\u001b[0m \u001b[1;34m\"b\"\u001b[0m\u001b[1;33m,\u001b[0m \u001b[1;34m\"g\"\u001b[0m\u001b[1;33m,\u001b[0m\u001b[1;34m\"cyan\"\u001b[0m\u001b[1;33m,\u001b[0m \u001b[1;34m\"y\"\u001b[0m\u001b[1;33m,\u001b[0m \u001b[1;34m\"c\"\u001b[0m\u001b[1;33m,\u001b[0m \u001b[1;34m\"m\"\u001b[0m\u001b[1;33m,\u001b[0m \u001b[1;34m\"pink\"\u001b[0m\u001b[1;33m,\u001b[0m\u001b[1;34m\"yellow\"\u001b[0m\u001b[1;33m,\u001b[0m \u001b[1;34m\"brown\"\u001b[0m\u001b[1;33m]\u001b[0m\u001b[1;33m\u001b[0m\u001b[0m\n",
      "\u001b[1;31mNameError\u001b[0m: name 'y' is not defined"
     ]
    },
    {
     "data": {
      "text/plain": [
       "<Figure size 576x576 with 0 Axes>"
      ]
     },
     "metadata": {},
     "output_type": "display_data"
    }
   ],
   "source": [
    "plt.figure(figsize=(8, 8))\n",
    "\n",
    "sns.scatterplot(x,y, s=3, hue=c, palette='Paired')\n",
    "plt.legend(bbox_to_anchor=(1.05, 1), loc='upper left', borderaxespad=0)\n",
    "colors = [\"r\", \"b\", \"g\",\"cyan\", \"y\", \"c\", \"m\", \"pink\",\"yellow\", \"brown\"]\n",
    "\n",
    "\n",
    "for i in range(len(borders)):\n",
    "    plt.plot([borders[i][0],borders[i][2]],[borders[i][1], borders[i][1]], 'k--', color = colors[i])\n",
    "    plt.plot([borders[i][2],borders[i][2]],[borders[i][1], borders[i][3]], 'k--', color = colors[i])    \n",
    "    plt.plot([borders[i][0],borders[i][2]],[borders[i][3], borders[i][3]], 'k--', color = colors[i])    \n",
    "    plt.plot([borders[i][0],borders[i][0]],[borders[i][1], borders[i][3]], 'k--', color = colors[i])\n",
    "    "
   ]
  },
  {
   "cell_type": "code",
   "execution_count": null,
   "id": "acadae46",
   "metadata": {},
   "outputs": [],
   "source": []
  },
  {
   "cell_type": "markdown",
   "id": "8fed3f1c",
   "metadata": {},
   "source": [
    "### DBSCAN logic"
   ]
  },
  {
   "cell_type": "markdown",
   "id": "ef929526",
   "metadata": {},
   "source": [
    "DBSCAN(DB, distFunc, eps, minPts) {\n",
    "    C := 0                                                  /* Cluster counter */\n",
    "    for each point P in database DB {\n",
    "        if label(P) ≠ undefined then continue               /* Previously processed in inner loop */\n",
    "        Neighbors N := RangeQuery(DB, distFunc, P, eps)     /* Find neighbors */\n",
    "        if |N| < minPts then {                              /* Density check */\n",
    "            label(P) := Noise                               /* Label as Noise */\n",
    "            continue\n",
    "        }\n",
    "        C := C + 1                                          /* next cluster label */\n",
    "        label(P) := C                                       /* Label initial point */\n",
    "        SeedSet S := N \\ {P}                                /* Neighbors to expand */\n",
    "        for each point Q in S {                             /* Process every seed point Q */\n",
    "            if label(Q) = Noise then label(Q) := C          /* Change Noise to border point */\n",
    "            if label(Q) ≠ undefined then continue           /* Previously processed (e.g., border point) */\n",
    "            label(Q) := C                                   /* Label neighbor */\n",
    "            Neighbors N := RangeQuery(DB, distFunc, Q, eps) /* Find neighbors */\n",
    "            if |N| ≥ minPts then {                          /* Density check (if Q is a core point) */\n",
    "                S := S ∪ N                                  /* Add new neighbors to seed set */\n",
    "            }\n",
    "        }\n",
    "    }\n",
    "}\n",
    "\n",
    "RangeQuery(DB, distFunc, Q, eps) {\n",
    "    Neighbors N := empty list\n",
    "    for each point P in database DB {                      /* Scan all points in the database */\n",
    "        if distFunc(Q, P) ≤ eps then {                     /* Compute distance and check epsilon */\n",
    "            N := N ∪ {P}                                   /* Add to result */\n",
    "        }\n",
    "    }\n",
    "    return N\n",
    "}"
   ]
  }
 ],
 "metadata": {
  "kernelspec": {
   "display_name": "Python 3",
   "language": "python",
   "name": "python3"
  },
  "language_info": {
   "codemirror_mode": {
    "name": "ipython",
    "version": 3
   },
   "file_extension": ".py",
   "mimetype": "text/x-python",
   "name": "python",
   "nbconvert_exporter": "python",
   "pygments_lexer": "ipython3",
   "version": "3.6.6"
  }
 },
 "nbformat": 4,
 "nbformat_minor": 5
}
